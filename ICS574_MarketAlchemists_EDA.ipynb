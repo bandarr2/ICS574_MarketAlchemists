{
  "cells": [
    {
      "cell_type": "markdown",
      "metadata": {},
      "source": [
        "# Course: ICS 574\n",
        "# Prject: Alchemists Project - EDA\n",
        "- Date: March 18th 2024\n",
        "- Project Members\n",
        "    - AHMED DHAFER ALQARNI, ID: 201453160\n",
        "    - WALEED ABDULLAH ALFAIFI, ID: 201640920\n",
        "    - ALGHAMDI, BANDAR, ID: 202206560"
      ]
    },
    {
      "cell_type": "code",
      "execution_count": 38,
      "metadata": {},
      "outputs": [],
      "source": [
        "# import python needed for the project\n",
        "import pandas as pd\n",
        "import seaborn as sns\n",
        "import matplotlib.pyplot as plt\n",
        "import plotly.express as px\n",
        "\n",
        "# import the datasets as dataframes\n",
        "stocks_df = pd.read_csv(\"./datasets/Tadawul_stcks.csv\")\n",
        "brent_df = pd.read_csv(\"./datasets/BrentOilPrices.csv\")\n",
        "eth_df = pd.read_csv(\"./datasets/coin_Ethereum.csv\")\n",
        "gold_df = pd.read_csv(\"./datasets/Gold_Daily.csv\")"
      ]
    },
    {
      "cell_type": "markdown",
      "metadata": {},
      "source": [
        "# 1: Descriptive Statistics"
      ]
    },
    {
      "cell_type": "markdown",
      "metadata": {},
      "source": [
        "# 1.a: Descirptive Statistics of Saudi Stocks Dataset"
      ]
    },
    {
      "cell_type": "code",
      "execution_count": 2,
      "metadata": {},
      "outputs": [
        {
          "name": "stdout",
          "output_type": "stream",
          "text": [
            "Saudi Stock Dataset Descriptive Statistics:\n",
            "              symbol           open           high            low  \\\n",
            "count  593819.000000  587364.000000  587122.000000  587122.000000   \n",
            "mean     3952.684793      41.237794      41.971636      40.593406   \n",
            "std      2284.498530      86.713646      89.178183      84.562283   \n",
            "min      1010.000000       1.950000       1.950000       1.950000   \n",
            "25%      2140.000000      16.200000      16.400000      16.000000   \n",
            "50%      4004.000000      26.500000      26.905000      26.100000   \n",
            "75%      5110.000000      46.500000      47.200000      45.850000   \n",
            "max      8312.000000    6709.150000    6774.510000    6130.720000   \n",
            "\n",
            "               close         change    perc_Change  volume_traded   \\\n",
            "count  593819.000000  593819.000000  593819.000000    5.938190e+05   \n",
            "mean       40.961602       0.001174       0.035652    1.673422e+06   \n",
            "std        86.491709       4.782545       3.480783    5.482121e+06   \n",
            "min         0.000000    -681.200000    -100.000000    0.000000e+00   \n",
            "25%        16.070000      -0.250000      -0.910000    1.484920e+05   \n",
            "50%        26.300000       0.000000       0.000000    4.335560e+05   \n",
            "75%        46.200000       0.250000       0.910000    1.271184e+06   \n",
            "max      6441.180000     578.430000    1634.440000    7.976659e+08   \n",
            "\n",
            "       value_traded     no_trades   \n",
            "count  5.938190e+05  586128.000000  \n",
            "mean   5.008553e+07     960.642348  \n",
            "std    1.472969e+08    3401.794136  \n",
            "min    0.000000e+00       0.000000  \n",
            "25%    4.114858e+06     158.000000  \n",
            "50%    1.210533e+07     376.000000  \n",
            "75%    3.561017e+07     900.000000  \n",
            "max    1.586582e+10  816526.000000  \n"
          ]
        }
      ],
      "source": [
        "print(\"Saudi Stock Dataset Descriptive Statistics:\")\n",
        "print(stocks_df.describe())"
      ]
    },
    {
      "cell_type": "code",
      "execution_count": 3,
      "metadata": {},
      "outputs": [
        {
          "data": {
            "text/html": [
              "<div>\n",
              "<style scoped>\n",
              "    .dataframe tbody tr th:only-of-type {\n",
              "        vertical-align: middle;\n",
              "    }\n",
              "\n",
              "    .dataframe tbody tr th {\n",
              "        vertical-align: top;\n",
              "    }\n",
              "\n",
              "    .dataframe thead th {\n",
              "        text-align: right;\n",
              "    }\n",
              "</style>\n",
              "<table border=\"1\" class=\"dataframe\">\n",
              "  <thead>\n",
              "    <tr style=\"text-align: right;\">\n",
              "      <th></th>\n",
              "      <th>symbol</th>\n",
              "      <th>name</th>\n",
              "      <th>trading_name</th>\n",
              "      <th>sectoer</th>\n",
              "      <th>date</th>\n",
              "      <th>open</th>\n",
              "      <th>high</th>\n",
              "      <th>low</th>\n",
              "      <th>close</th>\n",
              "      <th>change</th>\n",
              "      <th>perc_Change</th>\n",
              "      <th>volume_traded</th>\n",
              "      <th>value_traded</th>\n",
              "      <th>no_trades</th>\n",
              "    </tr>\n",
              "  </thead>\n",
              "  <tbody>\n",
              "    <tr>\n",
              "      <th>0</th>\n",
              "      <td>2030</td>\n",
              "      <td>Saudi Arabia Refineries Co.</td>\n",
              "      <td>SARCO</td>\n",
              "      <td>Energy</td>\n",
              "      <td>2020-03-05</td>\n",
              "      <td>35.55</td>\n",
              "      <td>35.85</td>\n",
              "      <td>34.90</td>\n",
              "      <td>34.90</td>\n",
              "      <td>-0.40</td>\n",
              "      <td>-1.13</td>\n",
              "      <td>436609.0</td>\n",
              "      <td>15399073.50</td>\n",
              "      <td>804.0</td>\n",
              "    </tr>\n",
              "    <tr>\n",
              "      <th>1</th>\n",
              "      <td>2030</td>\n",
              "      <td>Saudi Arabia Refineries Co.</td>\n",
              "      <td>SARCO</td>\n",
              "      <td>Energy</td>\n",
              "      <td>2020-03-04</td>\n",
              "      <td>34.70</td>\n",
              "      <td>35.65</td>\n",
              "      <td>34.50</td>\n",
              "      <td>35.30</td>\n",
              "      <td>0.25</td>\n",
              "      <td>0.71</td>\n",
              "      <td>737624.0</td>\n",
              "      <td>25981391.35</td>\n",
              "      <td>1268.0</td>\n",
              "    </tr>\n",
              "    <tr>\n",
              "      <th>2</th>\n",
              "      <td>2030</td>\n",
              "      <td>Saudi Arabia Refineries Co.</td>\n",
              "      <td>SARCO</td>\n",
              "      <td>Energy</td>\n",
              "      <td>2020-03-03</td>\n",
              "      <td>34.70</td>\n",
              "      <td>35.15</td>\n",
              "      <td>34.70</td>\n",
              "      <td>35.05</td>\n",
              "      <td>1.05</td>\n",
              "      <td>3.09</td>\n",
              "      <td>489831.0</td>\n",
              "      <td>17116413.40</td>\n",
              "      <td>854.0</td>\n",
              "    </tr>\n",
              "    <tr>\n",
              "      <th>3</th>\n",
              "      <td>2030</td>\n",
              "      <td>Saudi Arabia Refineries Co.</td>\n",
              "      <td>SARCO</td>\n",
              "      <td>Energy</td>\n",
              "      <td>2020-03-02</td>\n",
              "      <td>35.20</td>\n",
              "      <td>35.65</td>\n",
              "      <td>34.00</td>\n",
              "      <td>34.00</td>\n",
              "      <td>-0.55</td>\n",
              "      <td>-1.59</td>\n",
              "      <td>736157.0</td>\n",
              "      <td>25858700.60</td>\n",
              "      <td>1242.0</td>\n",
              "    </tr>\n",
              "    <tr>\n",
              "      <th>4</th>\n",
              "      <td>2030</td>\n",
              "      <td>Saudi Arabia Refineries Co.</td>\n",
              "      <td>SARCO</td>\n",
              "      <td>Energy</td>\n",
              "      <td>2020-03-01</td>\n",
              "      <td>35.35</td>\n",
              "      <td>35.60</td>\n",
              "      <td>34.25</td>\n",
              "      <td>34.55</td>\n",
              "      <td>-2.05</td>\n",
              "      <td>-5.60</td>\n",
              "      <td>738685.0</td>\n",
              "      <td>25747967.55</td>\n",
              "      <td>1625.0</td>\n",
              "    </tr>\n",
              "  </tbody>\n",
              "</table>\n",
              "</div>"
            ],
            "text/plain": [
              "   symbol                         name trading_name  sectoer        date  \\\n",
              "0    2030  Saudi Arabia Refineries Co.         SARCO  Energy  2020-03-05   \n",
              "1    2030  Saudi Arabia Refineries Co.         SARCO  Energy  2020-03-04   \n",
              "2    2030  Saudi Arabia Refineries Co.         SARCO  Energy  2020-03-03   \n",
              "3    2030  Saudi Arabia Refineries Co.         SARCO  Energy  2020-03-02   \n",
              "4    2030  Saudi Arabia Refineries Co.         SARCO  Energy  2020-03-01   \n",
              "\n",
              "    open   high    low  close  change  perc_Change  volume_traded   \\\n",
              "0  35.55  35.85  34.90  34.90   -0.40        -1.13        436609.0   \n",
              "1  34.70  35.65  34.50  35.30    0.25         0.71        737624.0   \n",
              "2  34.70  35.15  34.70  35.05    1.05         3.09        489831.0   \n",
              "3  35.20  35.65  34.00  34.00   -0.55        -1.59        736157.0   \n",
              "4  35.35  35.60  34.25  34.55   -2.05        -5.60        738685.0   \n",
              "\n",
              "   value_traded  no_trades   \n",
              "0   15399073.50       804.0  \n",
              "1   25981391.35      1268.0  \n",
              "2   17116413.40       854.0  \n",
              "3   25858700.60      1242.0  \n",
              "4   25747967.55      1625.0  "
            ]
          },
          "execution_count": 3,
          "metadata": {},
          "output_type": "execute_result"
        }
      ],
      "source": [
        "# print top 5 rows of the stocks dataset to identify sample data\n",
        "stocks_df.head()"
      ]
    },
    {
      "cell_type": "code",
      "execution_count": 4,
      "metadata": {},
      "outputs": [
        {
          "name": "stdout",
          "output_type": "stream",
          "text": [
            "Saudi Stock Dataset Columns:\n",
            "Index(['symbol', 'name', 'trading_name ', 'sectoer', 'date', 'open', 'high',\n",
            "       'low', 'close', 'change', 'perc_Change', 'volume_traded ',\n",
            "       'value_traded', 'no_trades '],\n",
            "      dtype='object')\n"
          ]
        }
      ],
      "source": [
        "# print the columns of the stocks dataset\n",
        "print(\"Saudi Stock Dataset Columns:\")\n",
        "print(stocks_df.columns)"
      ]
    },
    {
      "cell_type": "code",
      "execution_count": 6,
      "metadata": {},
      "outputs": [
        {
          "data": {
            "text/html": [
              "<div>\n",
              "<style scoped>\n",
              "    .dataframe tbody tr th:only-of-type {\n",
              "        vertical-align: middle;\n",
              "    }\n",
              "\n",
              "    .dataframe tbody tr th {\n",
              "        vertical-align: top;\n",
              "    }\n",
              "\n",
              "    .dataframe thead th {\n",
              "        text-align: right;\n",
              "    }\n",
              "</style>\n",
              "<table border=\"1\" class=\"dataframe\">\n",
              "  <thead>\n",
              "    <tr style=\"text-align: right;\">\n",
              "      <th></th>\n",
              "      <th>symbol</th>\n",
              "      <th>name</th>\n",
              "      <th>trading_name</th>\n",
              "      <th>sectoer</th>\n",
              "      <th>Date</th>\n",
              "      <th>open</th>\n",
              "      <th>high</th>\n",
              "      <th>low</th>\n",
              "      <th>close</th>\n",
              "      <th>change</th>\n",
              "      <th>perc_Change</th>\n",
              "      <th>volume_traded</th>\n",
              "      <th>value_traded</th>\n",
              "      <th>no_trades</th>\n",
              "    </tr>\n",
              "  </thead>\n",
              "  <tbody>\n",
              "    <tr>\n",
              "      <th>0</th>\n",
              "      <td>2030</td>\n",
              "      <td>Saudi Arabia Refineries Co.</td>\n",
              "      <td>SARCO</td>\n",
              "      <td>Energy</td>\n",
              "      <td>2020-03-05</td>\n",
              "      <td>35.55</td>\n",
              "      <td>35.85</td>\n",
              "      <td>34.90</td>\n",
              "      <td>34.90</td>\n",
              "      <td>-0.40</td>\n",
              "      <td>-1.13</td>\n",
              "      <td>436609.0</td>\n",
              "      <td>15399073.50</td>\n",
              "      <td>804.0</td>\n",
              "    </tr>\n",
              "    <tr>\n",
              "      <th>1</th>\n",
              "      <td>2030</td>\n",
              "      <td>Saudi Arabia Refineries Co.</td>\n",
              "      <td>SARCO</td>\n",
              "      <td>Energy</td>\n",
              "      <td>2020-03-04</td>\n",
              "      <td>34.70</td>\n",
              "      <td>35.65</td>\n",
              "      <td>34.50</td>\n",
              "      <td>35.30</td>\n",
              "      <td>0.25</td>\n",
              "      <td>0.71</td>\n",
              "      <td>737624.0</td>\n",
              "      <td>25981391.35</td>\n",
              "      <td>1268.0</td>\n",
              "    </tr>\n",
              "    <tr>\n",
              "      <th>2</th>\n",
              "      <td>2030</td>\n",
              "      <td>Saudi Arabia Refineries Co.</td>\n",
              "      <td>SARCO</td>\n",
              "      <td>Energy</td>\n",
              "      <td>2020-03-03</td>\n",
              "      <td>34.70</td>\n",
              "      <td>35.15</td>\n",
              "      <td>34.70</td>\n",
              "      <td>35.05</td>\n",
              "      <td>1.05</td>\n",
              "      <td>3.09</td>\n",
              "      <td>489831.0</td>\n",
              "      <td>17116413.40</td>\n",
              "      <td>854.0</td>\n",
              "    </tr>\n",
              "    <tr>\n",
              "      <th>3</th>\n",
              "      <td>2030</td>\n",
              "      <td>Saudi Arabia Refineries Co.</td>\n",
              "      <td>SARCO</td>\n",
              "      <td>Energy</td>\n",
              "      <td>2020-03-02</td>\n",
              "      <td>35.20</td>\n",
              "      <td>35.65</td>\n",
              "      <td>34.00</td>\n",
              "      <td>34.00</td>\n",
              "      <td>-0.55</td>\n",
              "      <td>-1.59</td>\n",
              "      <td>736157.0</td>\n",
              "      <td>25858700.60</td>\n",
              "      <td>1242.0</td>\n",
              "    </tr>\n",
              "    <tr>\n",
              "      <th>4</th>\n",
              "      <td>2030</td>\n",
              "      <td>Saudi Arabia Refineries Co.</td>\n",
              "      <td>SARCO</td>\n",
              "      <td>Energy</td>\n",
              "      <td>2020-03-01</td>\n",
              "      <td>35.35</td>\n",
              "      <td>35.60</td>\n",
              "      <td>34.25</td>\n",
              "      <td>34.55</td>\n",
              "      <td>-2.05</td>\n",
              "      <td>-5.60</td>\n",
              "      <td>738685.0</td>\n",
              "      <td>25747967.55</td>\n",
              "      <td>1625.0</td>\n",
              "    </tr>\n",
              "  </tbody>\n",
              "</table>\n",
              "</div>"
            ],
            "text/plain": [
              "   symbol                         name trading_name  sectoer       Date  \\\n",
              "0    2030  Saudi Arabia Refineries Co.         SARCO  Energy 2020-03-05   \n",
              "1    2030  Saudi Arabia Refineries Co.         SARCO  Energy 2020-03-04   \n",
              "2    2030  Saudi Arabia Refineries Co.         SARCO  Energy 2020-03-03   \n",
              "3    2030  Saudi Arabia Refineries Co.         SARCO  Energy 2020-03-02   \n",
              "4    2030  Saudi Arabia Refineries Co.         SARCO  Energy 2020-03-01   \n",
              "\n",
              "    open   high    low  close  change  perc_Change  volume_traded   \\\n",
              "0  35.55  35.85  34.90  34.90   -0.40        -1.13        436609.0   \n",
              "1  34.70  35.65  34.50  35.30    0.25         0.71        737624.0   \n",
              "2  34.70  35.15  34.70  35.05    1.05         3.09        489831.0   \n",
              "3  35.20  35.65  34.00  34.00   -0.55        -1.59        736157.0   \n",
              "4  35.35  35.60  34.25  34.55   -2.05        -5.60        738685.0   \n",
              "\n",
              "   value_traded  no_trades   \n",
              "0   15399073.50       804.0  \n",
              "1   25981391.35      1268.0  \n",
              "2   17116413.40       854.0  \n",
              "3   25858700.60      1242.0  \n",
              "4   25747967.55      1625.0  "
            ]
          },
          "execution_count": 6,
          "metadata": {},
          "output_type": "execute_result"
        }
      ],
      "source": [
        "# print top 5 rows of the stocks dataset to verify changes\n",
        "stocks_df.head()"
      ]
    },
    {
      "cell_type": "code",
      "execution_count": 7,
      "metadata": {},
      "outputs": [
        {
          "name": "stdout",
          "output_type": "stream",
          "text": [
            "Saudi Stock Dataset Sectors:\n",
            "['Energy' 'Materials' 'Industrials' 'Consumer Discretionary'\n",
            " 'Communication Services' 'Consumer Staples' 'Health Care' 'Financials'\n",
            " 'Information Technology' 'Utilities' 'Real Estate']\n"
          ]
        }
      ],
      "source": [
        "# print the sectors and their unique names\n",
        "print(\"Saudi Stock Dataset Sectors:\")\n",
        "print(stocks_df['sectoer'].unique())"
      ]
    },
    {
      "cell_type": "code",
      "execution_count": 11,
      "metadata": {},
      "outputs": [
        {
          "name": "stdout",
          "output_type": "stream",
          "text": [
            "SABIC Sector:\n",
            "['Materials']\n"
          ]
        }
      ],
      "source": [
        "# identify for Saudi Basic Industries Corp. which sector it belongs to in the dataset\n",
        "sabic = stocks_df[stocks_df['name'] == 'Saudi Basic Industries Corp.']\n",
        "print(\"SABIC Sector:\")\n",
        "print(sabic['sectoer'].unique())"
      ]
    },
    {
      "cell_type": "code",
      "execution_count": 12,
      "metadata": {},
      "outputs": [
        {
          "name": "stdout",
          "output_type": "stream",
          "text": [
            "Aramco Sector:\n",
            "['Energy']\n",
            "['Saudi Arabian Oil Co.']\n"
          ]
        }
      ],
      "source": [
        "# identify for Saudi Aramco stock symbol 2222 which sector it belongs to\n",
        "aramco = stocks_df[stocks_df['symbol'] == 2222]\n",
        "print(\"Aramco Sector:\")\n",
        "print(aramco['sectoer'].unique())\n",
        "print(aramco['name'].unique())"
      ]
    },
    {
      "cell_type": "code",
      "execution_count": 39,
      "metadata": {},
      "outputs": [
        {
          "name": "stdout",
          "output_type": "stream",
          "text": [
            "Specific Sectors Dataset:\n",
            "['Energy' 'Materials']\n"
          ]
        }
      ],
      "source": [
        "# we identified from previous cells that stocks we are interested in are in the Energy and Materials sectors\n",
        "# so we limit the dataset to the specific Energy and Materials sectors\n",
        "stocks_specific_df = stocks_df[(stocks_df['sectoer'] == 'Energy') | (stocks_df['sectoer'] == 'Materials')]\n",
        "print(\"Specific Sectors Dataset:\")\n",
        "print(stocks_specific_df['sectoer'].unique())"
      ]
    },
    {
      "cell_type": "code",
      "execution_count": 14,
      "metadata": {},
      "outputs": [
        {
          "data": {
            "text/html": [
              "<div>\n",
              "<style scoped>\n",
              "    .dataframe tbody tr th:only-of-type {\n",
              "        vertical-align: middle;\n",
              "    }\n",
              "\n",
              "    .dataframe tbody tr th {\n",
              "        vertical-align: top;\n",
              "    }\n",
              "\n",
              "    .dataframe thead th {\n",
              "        text-align: right;\n",
              "    }\n",
              "</style>\n",
              "<table border=\"1\" class=\"dataframe\">\n",
              "  <thead>\n",
              "    <tr style=\"text-align: right;\">\n",
              "      <th></th>\n",
              "      <th>symbol</th>\n",
              "      <th>name</th>\n",
              "      <th>trading_name</th>\n",
              "      <th>sectoer</th>\n",
              "      <th>Date</th>\n",
              "      <th>open</th>\n",
              "      <th>high</th>\n",
              "      <th>low</th>\n",
              "      <th>close</th>\n",
              "      <th>change</th>\n",
              "      <th>perc_Change</th>\n",
              "      <th>volume_traded</th>\n",
              "      <th>value_traded</th>\n",
              "      <th>no_trades</th>\n",
              "    </tr>\n",
              "  </thead>\n",
              "  <tbody>\n",
              "    <tr>\n",
              "      <th>0</th>\n",
              "      <td>2030</td>\n",
              "      <td>Saudi Arabia Refineries Co.</td>\n",
              "      <td>SARCO</td>\n",
              "      <td>Energy</td>\n",
              "      <td>2020-03-05</td>\n",
              "      <td>35.55</td>\n",
              "      <td>35.85</td>\n",
              "      <td>34.90</td>\n",
              "      <td>34.90</td>\n",
              "      <td>-0.40</td>\n",
              "      <td>-1.13</td>\n",
              "      <td>436609.0</td>\n",
              "      <td>15399073.50</td>\n",
              "      <td>804.0</td>\n",
              "    </tr>\n",
              "    <tr>\n",
              "      <th>1</th>\n",
              "      <td>2030</td>\n",
              "      <td>Saudi Arabia Refineries Co.</td>\n",
              "      <td>SARCO</td>\n",
              "      <td>Energy</td>\n",
              "      <td>2020-03-04</td>\n",
              "      <td>34.70</td>\n",
              "      <td>35.65</td>\n",
              "      <td>34.50</td>\n",
              "      <td>35.30</td>\n",
              "      <td>0.25</td>\n",
              "      <td>0.71</td>\n",
              "      <td>737624.0</td>\n",
              "      <td>25981391.35</td>\n",
              "      <td>1268.0</td>\n",
              "    </tr>\n",
              "    <tr>\n",
              "      <th>2</th>\n",
              "      <td>2030</td>\n",
              "      <td>Saudi Arabia Refineries Co.</td>\n",
              "      <td>SARCO</td>\n",
              "      <td>Energy</td>\n",
              "      <td>2020-03-03</td>\n",
              "      <td>34.70</td>\n",
              "      <td>35.15</td>\n",
              "      <td>34.70</td>\n",
              "      <td>35.05</td>\n",
              "      <td>1.05</td>\n",
              "      <td>3.09</td>\n",
              "      <td>489831.0</td>\n",
              "      <td>17116413.40</td>\n",
              "      <td>854.0</td>\n",
              "    </tr>\n",
              "    <tr>\n",
              "      <th>3</th>\n",
              "      <td>2030</td>\n",
              "      <td>Saudi Arabia Refineries Co.</td>\n",
              "      <td>SARCO</td>\n",
              "      <td>Energy</td>\n",
              "      <td>2020-03-02</td>\n",
              "      <td>35.20</td>\n",
              "      <td>35.65</td>\n",
              "      <td>34.00</td>\n",
              "      <td>34.00</td>\n",
              "      <td>-0.55</td>\n",
              "      <td>-1.59</td>\n",
              "      <td>736157.0</td>\n",
              "      <td>25858700.60</td>\n",
              "      <td>1242.0</td>\n",
              "    </tr>\n",
              "    <tr>\n",
              "      <th>4</th>\n",
              "      <td>2030</td>\n",
              "      <td>Saudi Arabia Refineries Co.</td>\n",
              "      <td>SARCO</td>\n",
              "      <td>Energy</td>\n",
              "      <td>2020-03-01</td>\n",
              "      <td>35.35</td>\n",
              "      <td>35.60</td>\n",
              "      <td>34.25</td>\n",
              "      <td>34.55</td>\n",
              "      <td>-2.05</td>\n",
              "      <td>-5.60</td>\n",
              "      <td>738685.0</td>\n",
              "      <td>25747967.55</td>\n",
              "      <td>1625.0</td>\n",
              "    </tr>\n",
              "  </tbody>\n",
              "</table>\n",
              "</div>"
            ],
            "text/plain": [
              "   symbol                         name trading_name  sectoer       Date  \\\n",
              "0    2030  Saudi Arabia Refineries Co.         SARCO  Energy 2020-03-05   \n",
              "1    2030  Saudi Arabia Refineries Co.         SARCO  Energy 2020-03-04   \n",
              "2    2030  Saudi Arabia Refineries Co.         SARCO  Energy 2020-03-03   \n",
              "3    2030  Saudi Arabia Refineries Co.         SARCO  Energy 2020-03-02   \n",
              "4    2030  Saudi Arabia Refineries Co.         SARCO  Energy 2020-03-01   \n",
              "\n",
              "    open   high    low  close  change  perc_Change  volume_traded   \\\n",
              "0  35.55  35.85  34.90  34.90   -0.40        -1.13        436609.0   \n",
              "1  34.70  35.65  34.50  35.30    0.25         0.71        737624.0   \n",
              "2  34.70  35.15  34.70  35.05    1.05         3.09        489831.0   \n",
              "3  35.20  35.65  34.00  34.00   -0.55        -1.59        736157.0   \n",
              "4  35.35  35.60  34.25  34.55   -2.05        -5.60        738685.0   \n",
              "\n",
              "   value_traded  no_trades   \n",
              "0   15399073.50       804.0  \n",
              "1   25981391.35      1268.0  \n",
              "2   17116413.40       854.0  \n",
              "3   25858700.60      1242.0  \n",
              "4   25747967.55      1625.0  "
            ]
          },
          "execution_count": 14,
          "metadata": {},
          "output_type": "execute_result"
        }
      ],
      "source": [
        "# print top 5 rows of the specific sectors dataset\n",
        "stocks_specific_df.head()"
      ]
    },
    {
      "cell_type": "code",
      "execution_count": 15,
      "metadata": {},
      "outputs": [
        {
          "name": "stdout",
          "output_type": "stream",
          "text": [
            "Specific Sectors Dataset Descriptive Statistics:\n",
            "              symbol                           Date           open  \\\n",
            "count  158086.000000                         158086  157296.000000   \n",
            "mean     2465.859285  2012-05-11 13:55:50.323241728      41.390524   \n",
            "min      1201.000000            2001-12-31 00:00:00       2.000000   \n",
            "25%      2090.000000            2008-05-13 00:00:00      19.080000   \n",
            "50%      2250.000000            2012-12-11 00:00:00      30.100000   \n",
            "75%      3020.000000            2016-09-20 00:00:00      51.750000   \n",
            "max      4200.000000            2020-04-16 00:00:00     582.000000   \n",
            "std       661.909840                            NaN      35.669815   \n",
            "\n",
            "                high            low          close         change  \\\n",
            "count  157275.000000  157275.000000  158086.000000  158086.000000   \n",
            "mean       42.009535      40.831218      41.315344       0.005487   \n",
            "min         2.000000       2.000000       0.000000    -143.840000   \n",
            "25%        19.300000      18.860000      19.020000      -0.250000   \n",
            "50%        30.400000      29.750000      30.000000       0.000000   \n",
            "75%        52.500000      51.000000      51.750000       0.250000   \n",
            "max       591.500000     549.250000     572.400000     372.910000   \n",
            "std        36.415901      34.987569      35.642652       1.987704   \n",
            "\n",
            "        perc_Change  volume_traded   value_traded     no_trades   \n",
            "count  158086.00000    1.580860e+05  1.580860e+05  158086.000000  \n",
            "mean        0.03516    1.554141e+06  5.796372e+07     921.337962  \n",
            "min      -100.00000    0.000000e+00  0.000000e+00       0.000000  \n",
            "25%        -0.84000    1.389438e+05  4.404891e+06     146.000000  \n",
            "50%         0.00000    4.224140e+05  1.301224e+07     349.000000  \n",
            "75%         0.86000    1.308650e+06  3.884911e+07     856.000000  \n",
            "max       200.00000    4.179278e+08  1.586582e+10  587262.000000  \n",
            "std         2.54594    4.346175e+06  1.764935e+08    3904.101582  \n"
          ]
        }
      ],
      "source": [
        "# do descriptive statistics for the specific sectors dataset\n",
        "# notice that the dataset is now limited to 2 sectors only - headers are the same from original dataset, just reduced rows to specified sectors\n",
        "print(\"Specific Sectors Dataset Descriptive Statistics:\")\n",
        "print(stocks_specific_df.describe())"
      ]
    },
    {
      "cell_type": "code",
      "execution_count": 19,
      "metadata": {},
      "outputs": [
        {
          "name": "stdout",
          "output_type": "stream",
          "text": [
            "Specific Sectors Dataset Missing Values:\n",
            "symbol              0\n",
            "name                0\n",
            "trading_name        0\n",
            "sectoer             0\n",
            "Date                0\n",
            "open              790\n",
            "high              811\n",
            "low               811\n",
            "close               0\n",
            "change              0\n",
            "perc_Change         0\n",
            "volume_traded       0\n",
            "value_traded        0\n",
            "no_trades           0\n",
            "dtype: int64\n"
          ]
        }
      ],
      "source": [
        "# verify if there are any missing values in the dataset; we notice there are and we'll deal with it in the Data Cleaning Section\n",
        "print(\"Specific Sectors Dataset Missing Values:\")\n",
        "print(stocks_specific_df.isnull().sum())"
      ]
    },
    {
      "cell_type": "code",
      "execution_count": null,
      "metadata": {},
      "outputs": [],
      "source": [
        "# plot an interactive line chart for the specific sectors dataset closing prices\n",
        "# we notice the major events in the dataset such as the 2006 crash and 2008 crash are visible in the chart\n",
        "fig = px.line(stocks_specific_df, x='Date', y='close', color='name', title='Energy and Materials Stocks Closing Prices')\n",
        "fig.show()"
      ]
    },
    {
      "cell_type": "markdown",
      "metadata": {},
      "source": [
        "# 1.b: Descirptive Statistics of Brent Dataset"
      ]
    },
    {
      "cell_type": "code",
      "execution_count": 16,
      "metadata": {},
      "outputs": [
        {
          "name": "stdout",
          "output_type": "stream",
          "text": [
            "Brent Oil Dataset Descriptive Statistics:\n",
            "             Price\n",
            "count  9011.000000\n",
            "mean     48.420782\n",
            "std      32.860110\n",
            "min       9.100000\n",
            "25%      19.050000\n",
            "50%      38.570000\n",
            "75%      70.090000\n",
            "max     143.950000\n"
          ]
        }
      ],
      "source": [
        "print(\"Brent Oil Dataset Descriptive Statistics:\")\n",
        "print(brent_df.describe())"
      ]
    },
    {
      "cell_type": "code",
      "execution_count": 17,
      "metadata": {},
      "outputs": [
        {
          "data": {
            "text/html": [
              "<div>\n",
              "<style scoped>\n",
              "    .dataframe tbody tr th:only-of-type {\n",
              "        vertical-align: middle;\n",
              "    }\n",
              "\n",
              "    .dataframe tbody tr th {\n",
              "        vertical-align: top;\n",
              "    }\n",
              "\n",
              "    .dataframe thead th {\n",
              "        text-align: right;\n",
              "    }\n",
              "</style>\n",
              "<table border=\"1\" class=\"dataframe\">\n",
              "  <thead>\n",
              "    <tr style=\"text-align: right;\">\n",
              "      <th></th>\n",
              "      <th>Date</th>\n",
              "      <th>Price</th>\n",
              "    </tr>\n",
              "  </thead>\n",
              "  <tbody>\n",
              "    <tr>\n",
              "      <th>0</th>\n",
              "      <td>20-May-87</td>\n",
              "      <td>18.63</td>\n",
              "    </tr>\n",
              "    <tr>\n",
              "      <th>1</th>\n",
              "      <td>21-May-87</td>\n",
              "      <td>18.45</td>\n",
              "    </tr>\n",
              "    <tr>\n",
              "      <th>2</th>\n",
              "      <td>22-May-87</td>\n",
              "      <td>18.55</td>\n",
              "    </tr>\n",
              "    <tr>\n",
              "      <th>3</th>\n",
              "      <td>25-May-87</td>\n",
              "      <td>18.60</td>\n",
              "    </tr>\n",
              "    <tr>\n",
              "      <th>4</th>\n",
              "      <td>26-May-87</td>\n",
              "      <td>18.63</td>\n",
              "    </tr>\n",
              "  </tbody>\n",
              "</table>\n",
              "</div>"
            ],
            "text/plain": [
              "        Date  Price\n",
              "0  20-May-87  18.63\n",
              "1  21-May-87  18.45\n",
              "2  22-May-87  18.55\n",
              "3  25-May-87  18.60\n",
              "4  26-May-87  18.63"
            ]
          },
          "execution_count": 17,
          "metadata": {},
          "output_type": "execute_result"
        }
      ],
      "source": [
        "# print top 5 rows of the brent dataset\n",
        "brent_df.head()"
      ]
    },
    {
      "cell_type": "code",
      "execution_count": 18,
      "metadata": {},
      "outputs": [
        {
          "name": "stdout",
          "output_type": "stream",
          "text": [
            "Brent Oil Dataset Columns:\n",
            "Index(['Date', 'Price'], dtype='object')\n"
          ]
        }
      ],
      "source": [
        "# print the columns of the brenth dataset\n",
        "print(\"Brent Oil Dataset Columns:\")\n",
        "print(brent_df.columns)"
      ]
    },
    {
      "cell_type": "code",
      "execution_count": 20,
      "metadata": {},
      "outputs": [
        {
          "name": "stdout",
          "output_type": "stream",
          "text": [
            "Brent Oil Dataset Missing Values:\n",
            "Date     0\n",
            "Price    0\n",
            "dtype: int64\n"
          ]
        }
      ],
      "source": [
        "# verify if there are any missing values in the dataset; we notice there are no missing values\n",
        "print(\"Brent Oil Dataset Missing Values:\")\n",
        "print(brent_df.isnull().sum())"
      ]
    },
    {
      "cell_type": "code",
      "execution_count": null,
      "metadata": {},
      "outputs": [],
      "source": [
        "# plot an interactive line chart for the brent dataset closing prices; we notice the major events in the dataset such as the 2008 crash are visible in the chart\n",
        "fig = px.line(brent_df, x='Date', y='Price', title='Brent Oil Prices')\n",
        "fig.show()"
      ]
    },
    {
      "cell_type": "markdown",
      "metadata": {},
      "source": [
        "# 1.C: Descirptive Statistics of Gold Dataset"
      ]
    },
    {
      "cell_type": "code",
      "execution_count": 23,
      "metadata": {},
      "outputs": [
        {
          "name": "stdout",
          "output_type": "stream",
          "text": [
            "Gold Price Dataset Descriptive Statistics:\n",
            "             Price         Open         High          Low     Change %\n",
            "count  6886.000000  6886.000000  6886.000000  6886.000000  6886.000000\n",
            "mean    909.824807   906.941624   910.127604   903.469021     0.000309\n",
            "std     541.516040   539.071470   541.323158   536.564722     0.012892\n",
            "min     253.000000   252.900000   252.900000   252.500000    -0.111300\n",
            "25%     376.400000   376.200000   376.700000   375.800000    -0.004500\n",
            "50%     890.900000   889.800000   899.700000   883.350000     0.000200\n",
            "75%    1359.375000  1349.925000  1352.275000  1347.700000     0.005400\n",
            "max    2115.200000  2121.700000  2121.700000  2121.700000     0.127100\n"
          ]
        }
      ],
      "source": [
        "print(\"Gold Price Dataset Descriptive Statistics:\")\n",
        "print(gold_df.describe())"
      ]
    },
    {
      "cell_type": "code",
      "execution_count": 24,
      "metadata": {},
      "outputs": [
        {
          "name": "stdout",
          "output_type": "stream",
          "text": [
            "Gold Price Dataset Columns:\n",
            "Index(['Date', 'Price', 'Open', 'High', 'Low', 'Vol', 'Change %'], dtype='object')\n"
          ]
        }
      ],
      "source": [
        "# print the columns of the gold dataset\n",
        "print(\"Gold Price Dataset Columns:\")\n",
        "print(gold_df.columns)"
      ]
    },
    {
      "cell_type": "code",
      "execution_count": 25,
      "metadata": {},
      "outputs": [
        {
          "name": "stdout",
          "output_type": "stream",
          "text": [
            "Gold Price Dataset Missing Values:\n",
            "Date        0\n",
            "Price       0\n",
            "Open        0\n",
            "High        0\n",
            "Low         0\n",
            "Vol         0\n",
            "Change %    0\n",
            "dtype: int64\n"
          ]
        }
      ],
      "source": [
        "# verify if there are any missing values in the dataset; we notice there are no missing values\n",
        "print(\"Gold Price Dataset Missing Values:\")\n",
        "print(gold_df.isnull().sum())"
      ]
    },
    {
      "cell_type": "code",
      "execution_count": null,
      "metadata": {},
      "outputs": [],
      "source": [
        "# plot an interactive line chart for the gold dataset closing prices\n",
        "fig = px.line(gold_df, x='Date', y='Price', title='Gold Prices')\n",
        "fig.show()"
      ]
    },
    {
      "cell_type": "markdown",
      "metadata": {},
      "source": [
        "# 2: Data Cleaning"
      ]
    },
    {
      "cell_type": "code",
      "execution_count": 29,
      "metadata": {},
      "outputs": [],
      "source": [
        "# from the descriptive statistics above, we need to merge the specified dataset with brent & gold\n",
        "# before doing that, we clean the data by performing following actions\n",
        "# 1. rename \"Date\" column to unify it among all datasets\n",
        "# 2. change Date column to datetime\n",
        "# 3. rename Brent & Gold price to be Brent_Price & Gold_Price\n",
        "# 4. remove unnecessary columns and focus on close price only for stocks, brent, and gold\n",
        "# 5. fill the missing values in the stocks dataset with previous day's value\n",
        "# 6. merge the datasets based on the Date column\n",
        "# 7. multiply the Gold_Price & Brent_Price by 3.75 to match the scale of the stocks dataset (Saudi Riyal)"
      ]
    },
    {
      "cell_type": "code",
      "execution_count": 41,
      "metadata": {},
      "outputs": [
        {
          "name": "stderr",
          "output_type": "stream",
          "text": [
            "/var/folders/8r/wc11r95d3lgcc57lr4h_9m0w0000gn/T/ipykernel_7508/3032031963.py:2: SettingWithCopyWarning:\n",
            "\n",
            "\n",
            "A value is trying to be set on a copy of a slice from a DataFrame\n",
            "\n",
            "See the caveats in the documentation: https://pandas.pydata.org/pandas-docs/stable/user_guide/indexing.html#returning-a-view-versus-a-copy\n",
            "\n"
          ]
        }
      ],
      "source": [
        "# Action 1: rename Date column to unify it among all datasets\n",
        "stocks_specific_df.rename(columns={'date': 'Date'}, inplace=True)"
      ]
    },
    {
      "cell_type": "code",
      "execution_count": 55,
      "metadata": {},
      "outputs": [],
      "source": [
        "# Action 2: change Date column to datetime\n",
        "stocks_specific_df['Date'] = pd.to_datetime(stocks_specific_df['Date'])\n",
        "brent_df['Date'] = pd.to_datetime(brent_df['Date'])\n",
        "gold_df['Date'] = pd.to_datetime(gold_df['Date'])"
      ]
    },
    {
      "cell_type": "code",
      "execution_count": 43,
      "metadata": {},
      "outputs": [],
      "source": [
        "# Action 3: rename Brent & Gold price to be Brent_Price & Gold_Price\n",
        "brent_df.rename(columns={'Price': 'Brent_Price'}, inplace=True)\n",
        "gold_df.rename(columns={'Price': 'Gold_Price'}, inplace=True)"
      ]
    },
    {
      "cell_type": "code",
      "execution_count": 44,
      "metadata": {},
      "outputs": [],
      "source": [
        "# Action 4: remove unnecessary columns and focus on close price only for stocks, brent, and gold\n",
        "stocks_specific_df = stocks_specific_df[['Date', 'name', 'close', 'sectoer', 'symbol']]"
      ]
    },
    {
      "cell_type": "code",
      "execution_count": 51,
      "metadata": {},
      "outputs": [],
      "source": [
        "# Action 5: fill the missing values in the stocks dataset with previous day's value\n",
        "stocks_specific_df.fillna(method='ffill', inplace=True)"
      ]
    },
    {
      "cell_type": "code",
      "execution_count": 52,
      "metadata": {},
      "outputs": [
        {
          "name": "stdout",
          "output_type": "stream",
          "text": [
            "Stocks Dataset Date Range in Brent Dataset:\n",
            "Date\n",
            "True     108348\n",
            "False     49738\n",
            "Name: count, dtype: int64\n"
          ]
        }
      ],
      "source": [
        "# verify that all the dates in the stocks dataset are present in the brent dataset\n",
        "print(\"Stocks Dataset Date Range in Brent Dataset:\")\n",
        "print(stocks_specific_df['Date'].isin(brent_df['Date']).value_counts())"
      ]
    },
    {
      "cell_type": "code",
      "execution_count": 54,
      "metadata": {},
      "outputs": [
        {
          "name": "stdout",
          "output_type": "stream",
          "text": [
            "Stocks Dataset Date Type:\n",
            "datetime64[ns]\n",
            "Brent Dataset Date Type:\n",
            "object\n",
            "Gold Dataset Date Type:\n",
            "datetime64[ns]\n"
          ]
        }
      ],
      "source": [
        "# print the types of the datasets to verify that the Date column is the same type\n",
        "print(\"Stocks Dataset Date Type:\")\n",
        "print(stocks_specific_df['Date'].dtype)\n",
        "print(\"Brent Dataset Date Type:\")\n",
        "print(brent_df['Date'].dtype)\n",
        "print(\"Gold Dataset Date Type:\")\n",
        "print(gold_df['Date'].dtype)"
      ]
    },
    {
      "cell_type": "code",
      "execution_count": 62,
      "metadata": {},
      "outputs": [],
      "source": [
        "# Action 6: merge the datasets based on the Date column\n",
        "# merge the stocks and brent datasets on the date column\n",
        "stocks_brent_df = pd.merge(stocks_specific_df, brent_df, on='Date', how='inner')"
      ]
    },
    {
      "cell_type": "code",
      "execution_count": 63,
      "metadata": {},
      "outputs": [],
      "source": [
        "# merge the stocks_brent and gold datasets on the date column\n",
        "stocks_brent_gold_df = pd.merge(stocks_brent_df, gold_df, on='Date', how='inner')"
      ]
    },
    {
      "cell_type": "code",
      "execution_count": 64,
      "metadata": {},
      "outputs": [
        {
          "data": {
            "text/html": [
              "<div>\n",
              "<style scoped>\n",
              "    .dataframe tbody tr th:only-of-type {\n",
              "        vertical-align: middle;\n",
              "    }\n",
              "\n",
              "    .dataframe tbody tr th {\n",
              "        vertical-align: top;\n",
              "    }\n",
              "\n",
              "    .dataframe thead th {\n",
              "        text-align: right;\n",
              "    }\n",
              "</style>\n",
              "<table border=\"1\" class=\"dataframe\">\n",
              "  <thead>\n",
              "    <tr style=\"text-align: right;\">\n",
              "      <th></th>\n",
              "      <th>Date</th>\n",
              "      <th>name</th>\n",
              "      <th>close</th>\n",
              "      <th>sectoer</th>\n",
              "      <th>symbol</th>\n",
              "      <th>Brent_Price</th>\n",
              "      <th>Gold_Price</th>\n",
              "      <th>Open</th>\n",
              "      <th>High</th>\n",
              "      <th>Low</th>\n",
              "      <th>Vol</th>\n",
              "      <th>Change %</th>\n",
              "    </tr>\n",
              "  </thead>\n",
              "  <tbody>\n",
              "    <tr>\n",
              "      <th>0</th>\n",
              "      <td>2020-03-05</td>\n",
              "      <td>Saudi Arabia Refineries Co.</td>\n",
              "      <td>34.90</td>\n",
              "      <td>Energy</td>\n",
              "      <td>2030</td>\n",
              "      <td>51.29</td>\n",
              "      <td>1690.5</td>\n",
              "      <td>1655.7</td>\n",
              "      <td>1671.0</td>\n",
              "      <td>1655.2</td>\n",
              "      <td>0.18K</td>\n",
              "      <td>0.0142</td>\n",
              "    </tr>\n",
              "    <tr>\n",
              "      <th>1</th>\n",
              "      <td>2020-03-05</td>\n",
              "      <td>Saudi Arabian Oil Co.</td>\n",
              "      <td>33.00</td>\n",
              "      <td>Energy</td>\n",
              "      <td>2222</td>\n",
              "      <td>51.29</td>\n",
              "      <td>1690.5</td>\n",
              "      <td>1655.7</td>\n",
              "      <td>1671.0</td>\n",
              "      <td>1655.2</td>\n",
              "      <td>0.18K</td>\n",
              "      <td>0.0142</td>\n",
              "    </tr>\n",
              "    <tr>\n",
              "      <th>2</th>\n",
              "      <td>2020-03-05</td>\n",
              "      <td>Rabigh Refining and Petrochemical Co.</td>\n",
              "      <td>14.80</td>\n",
              "      <td>Energy</td>\n",
              "      <td>2380</td>\n",
              "      <td>51.29</td>\n",
              "      <td>1690.5</td>\n",
              "      <td>1655.7</td>\n",
              "      <td>1671.0</td>\n",
              "      <td>1655.2</td>\n",
              "      <td>0.18K</td>\n",
              "      <td>0.0142</td>\n",
              "    </tr>\n",
              "    <tr>\n",
              "      <th>3</th>\n",
              "      <td>2020-03-05</td>\n",
              "      <td>National Shipping Company of Saudi Arabia</td>\n",
              "      <td>31.15</td>\n",
              "      <td>Energy</td>\n",
              "      <td>4030</td>\n",
              "      <td>51.29</td>\n",
              "      <td>1690.5</td>\n",
              "      <td>1655.7</td>\n",
              "      <td>1671.0</td>\n",
              "      <td>1655.2</td>\n",
              "      <td>0.18K</td>\n",
              "      <td>0.0142</td>\n",
              "    </tr>\n",
              "    <tr>\n",
              "      <th>4</th>\n",
              "      <td>2020-03-05</td>\n",
              "      <td>Aldrees Petroleum and Transport Services Co.</td>\n",
              "      <td>60.10</td>\n",
              "      <td>Energy</td>\n",
              "      <td>4200</td>\n",
              "      <td>51.29</td>\n",
              "      <td>1690.5</td>\n",
              "      <td>1655.7</td>\n",
              "      <td>1671.0</td>\n",
              "      <td>1655.2</td>\n",
              "      <td>0.18K</td>\n",
              "      <td>0.0142</td>\n",
              "    </tr>\n",
              "  </tbody>\n",
              "</table>\n",
              "</div>"
            ],
            "text/plain": [
              "        Date                                          name  close sectoer  \\\n",
              "0 2020-03-05                   Saudi Arabia Refineries Co.  34.90  Energy   \n",
              "1 2020-03-05                         Saudi Arabian Oil Co.  33.00  Energy   \n",
              "2 2020-03-05         Rabigh Refining and Petrochemical Co.  14.80  Energy   \n",
              "3 2020-03-05     National Shipping Company of Saudi Arabia  31.15  Energy   \n",
              "4 2020-03-05  Aldrees Petroleum and Transport Services Co.  60.10  Energy   \n",
              "\n",
              "   symbol  Brent_Price  Gold_Price    Open    High     Low    Vol  Change %  \n",
              "0    2030        51.29      1690.5  1655.7  1671.0  1655.2  0.18K    0.0142  \n",
              "1    2222        51.29      1690.5  1655.7  1671.0  1655.2  0.18K    0.0142  \n",
              "2    2380        51.29      1690.5  1655.7  1671.0  1655.2  0.18K    0.0142  \n",
              "3    4030        51.29      1690.5  1655.7  1671.0  1655.2  0.18K    0.0142  \n",
              "4    4200        51.29      1690.5  1655.7  1671.0  1655.2  0.18K    0.0142  "
            ]
          },
          "execution_count": 64,
          "metadata": {},
          "output_type": "execute_result"
        }
      ],
      "source": [
        "# print the top 5 rows of the merged dataset\n",
        "stocks_brent_gold_df.head()"
      ]
    },
    {
      "cell_type": "code",
      "execution_count": 65,
      "metadata": {},
      "outputs": [],
      "source": [
        "# multiply Gold_Price & Brent_Price by 3.75 to make it comparable to the stocks\n",
        "stocks_brent_gold_df['Brent_Price'] = stocks_brent_gold_df['Brent_Price'] * 3.75\n",
        "stocks_brent_gold_df['Gold_Price'] = stocks_brent_gold_df['Gold_Price'] * 3.75"
      ]
    },
    {
      "cell_type": "code",
      "execution_count": 68,
      "metadata": {},
      "outputs": [
        {
          "name": "stdout",
          "output_type": "stream",
          "text": [
            "Merged Dataset Missing Values:\n",
            "Date           0\n",
            "name           0\n",
            "close          0\n",
            "sectoer        0\n",
            "symbol         0\n",
            "Brent_Price    0\n",
            "Gold_Price     0\n",
            "Open           0\n",
            "High           0\n",
            "Low            0\n",
            "Vol            0\n",
            "Change %       0\n",
            "dtype: int64\n"
          ]
        }
      ],
      "source": [
        "# verify if there are any missing values in the dataset; we notice there are no missing values\n",
        "print(\"Merged Dataset Missing Values:\")\n",
        "print(stocks_brent_gold_df.isnull().sum())"
      ]
    },
    {
      "cell_type": "code",
      "execution_count": null,
      "metadata": {},
      "outputs": [],
      "source": [
        "# plot an interactive line chart for the merged dataset closing prices\n",
        "fig = px.line(stocks_brent_gold_df, x='Date', y='close', color='name', title='Energy and Materials Stocks Closing Prices')\n",
        "fig.show()"
      ]
    },
    {
      "cell_type": "code",
      "execution_count": null,
      "metadata": {},
      "outputs": [],
      "source": [
        "# plot an interactive line chart for the merged dataset closing prices, Gold_Price, and Brent_Price\n",
        "fig = px.line(stocks_brent_gold_df, x='Date', y='close', color='name', title='Energy and Materials Stocks Closing Prices with Gold and Brent Prices')\n",
        "fig.add_scatter(x=stocks_brent_gold_df['Date'], y=stocks_brent_gold_df['Gold_Price'], mode='lines', name='Gold Price')\n",
        "fig.add_scatter(x=stocks_brent_gold_df['Date'], y=stocks_brent_gold_df['Brent_Price'], mode='lines', name='Brent Price')\n",
        "fig.show()"
      ]
    },
    {
      "cell_type": "code",
      "execution_count": null,
      "metadata": {},
      "outputs": [],
      "source": []
    },
    {
      "cell_type": "markdown",
      "metadata": {},
      "source": [
        "# 3: Data Visualization"
      ]
    },
    {
      "cell_type": "code",
      "execution_count": null,
      "metadata": {},
      "outputs": [],
      "source": []
    },
    {
      "cell_type": "code",
      "execution_count": null,
      "metadata": {},
      "outputs": [],
      "source": []
    },
    {
      "cell_type": "markdown",
      "metadata": {},
      "source": [
        "# 4: Data Correlation"
      ]
    },
    {
      "cell_type": "code",
      "execution_count": null,
      "metadata": {},
      "outputs": [],
      "source": []
    },
    {
      "cell_type": "code",
      "execution_count": null,
      "metadata": {},
      "outputs": [],
      "source": []
    },
    {
      "cell_type": "markdown",
      "metadata": {},
      "source": [
        "# 5: Data Insightful Findings"
      ]
    },
    {
      "cell_type": "code",
      "execution_count": null,
      "metadata": {},
      "outputs": [],
      "source": []
    },
    {
      "cell_type": "code",
      "execution_count": null,
      "metadata": {},
      "outputs": [],
      "source": []
    },
    {
      "cell_type": "markdown",
      "metadata": {},
      "source": []
    }
  ],
  "metadata": {
    "colab": {
      "provenance": []
    },
    "kernelspec": {
      "display_name": "Python 3",
      "name": "python3"
    },
    "language_info": {
      "codemirror_mode": {
        "name": "ipython",
        "version": 3
      },
      "file_extension": ".py",
      "mimetype": "text/x-python",
      "name": "python",
      "nbconvert_exporter": "python",
      "pygments_lexer": "ipython3",
      "version": "3.11.5"
    }
  },
  "nbformat": 4,
  "nbformat_minor": 0
}
