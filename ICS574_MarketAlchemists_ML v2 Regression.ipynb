{
  "cells": [
    {
      "cell_type": "markdown",
      "metadata": {},
      "source": [
        "# Course: ICS 574\n",
        "# Prject: Alchemists Project - EDA\n",
        "- Date: May 1st 2024\n",
        "- Project Members\n",
        "    - AHMED DHAFER ALQARNI, ID: 201453160\n",
        "    - WALEED ABDULLAH ALFAIFI, ID: 201640920\n",
        "    - ALGHAMDI, BANDAR, ID: 202206560"
      ]
    },
    {
      "cell_type": "code",
      "execution_count": 6,
      "metadata": {},
      "outputs": [],
      "source": [
        "import pandas as pd\n",
        "from pyspark.sql import SparkSession\n",
        "from pyspark.ml.feature import StringIndexer, VectorAssembler\n",
        "from pyspark.ml.evaluation import RegressionEvaluator\n",
        "from pyspark.ml.regression import DecisionTreeRegressor\n",
        "\n"
      ]
    },
    {
      "cell_type": "code",
      "execution_count": 8,
      "metadata": {},
      "outputs": [
        {
          "name": "stderr",
          "output_type": "stream",
          "text": [
            "24/03/27 10:10:34 WARN SparkSession: Using an existing Spark session; only runtime SQL configurations will take effect.\n"
          ]
        }
      ],
      "source": [
        "# Create a Spark session\n",
        "spark = SparkSession.builder.appName(\"Decision Tree Classifier Example 3\").getOrCreate()\n",
        "\n",
        "\n"
      ]
    },
    {
      "cell_type": "code",
      "execution_count": 9,
      "metadata": {},
      "outputs": [
        {
          "name": "stderr",
          "output_type": "stream",
          "text": [
            "/var/folders/8r/wc11r95d3lgcc57lr4h_9m0w0000gn/T/ipykernel_24975/4115176948.py:8: SettingWithCopyWarning: \n",
            "A value is trying to be set on a copy of a slice from a DataFrame\n",
            "\n",
            "See the caveats in the documentation: https://pandas.pydata.org/pandas-docs/stable/user_guide/indexing.html#returning-a-view-versus-a-copy\n",
            "  stocks_specific_df.rename(columns={'date': 'Date'}, inplace=True)\n",
            "/var/folders/8r/wc11r95d3lgcc57lr4h_9m0w0000gn/T/ipykernel_24975/4115176948.py:9: SettingWithCopyWarning: \n",
            "A value is trying to be set on a copy of a slice from a DataFrame\n",
            "\n",
            "See the caveats in the documentation: https://pandas.pydata.org/pandas-docs/stable/user_guide/indexing.html#returning-a-view-versus-a-copy\n",
            "  stocks_specific_df.rename(columns={'close': 'Stock_Price'}, inplace=True)\n",
            "/var/folders/8r/wc11r95d3lgcc57lr4h_9m0w0000gn/T/ipykernel_24975/4115176948.py:10: SettingWithCopyWarning: \n",
            "A value is trying to be set on a copy of a slice from a DataFrame.\n",
            "Try using .loc[row_indexer,col_indexer] = value instead\n",
            "\n",
            "See the caveats in the documentation: https://pandas.pydata.org/pandas-docs/stable/user_guide/indexing.html#returning-a-view-versus-a-copy\n",
            "  stocks_specific_df['Date'] = pd.to_datetime(stocks_specific_df['Date'])\n",
            "/var/folders/8r/wc11r95d3lgcc57lr4h_9m0w0000gn/T/ipykernel_24975/4115176948.py:11: UserWarning: Could not infer format, so each element will be parsed individually, falling back to `dateutil`. To ensure parsing is consistent and as-expected, please specify a format.\n",
            "  brent_df['Date'] = pd.to_datetime(brent_df['Date'])\n",
            "/var/folders/8r/wc11r95d3lgcc57lr4h_9m0w0000gn/T/ipykernel_24975/4115176948.py:15: SettingWithCopyWarning: \n",
            "A value is trying to be set on a copy of a slice from a DataFrame\n",
            "\n",
            "See the caveats in the documentation: https://pandas.pydata.org/pandas-docs/stable/user_guide/indexing.html#returning-a-view-versus-a-copy\n",
            "  stocks_specific_df.rename(columns={'sectoer': 'Sector'}, inplace=True)\n"
          ]
        }
      ],
      "source": [
        "# Load the datasets as pandas DataFrames\n",
        "stocks_df = pd.read_csv(\"./datasets/Tadawul_stcks.csv\")\n",
        "brent_df = pd.read_csv(\"./datasets/BrentOilPrices.csv\")\n",
        "gold_df = pd.read_csv(\"./datasets/Gold_Daily.csv\")\n",
        "\n",
        "# Preprocess the stock data\n",
        "stocks_specific_df = stocks_df[(stocks_df['sectoer'] == 'Energy') | (stocks_df['sectoer'] == 'Materials')]\n",
        "stocks_specific_df.rename(columns={'date': 'Date'}, inplace=True)\n",
        "stocks_specific_df.rename(columns={'close': 'Stock_Price'}, inplace=True)\n",
        "stocks_specific_df['Date'] = pd.to_datetime(stocks_specific_df['Date'])\n",
        "brent_df['Date'] = pd.to_datetime(brent_df['Date'])\n",
        "gold_df['Date'] = pd.to_datetime(gold_df['Date'])\n",
        "brent_df.rename(columns={'Price': 'Brent_Price'}, inplace=True)\n",
        "gold_df.rename(columns={'Price': 'Gold_Price'}, inplace=True)\n",
        "stocks_specific_df.rename(columns={'sectoer': 'Sector'}, inplace=True)\n",
        "stocks_specific_df = stocks_specific_df[['Date', 'name', 'Stock_Price', 'Sector', 'symbol']]\n",
        "brent_df = brent_df[['Date', 'Brent_Price']]\n",
        "gold_df = gold_df[['Date', 'Gold_Price']]\n",
        "stocks_specific_df.fillna(method='ffill', inplace=True)\n",
        "stocks_brent_df = pd.merge(stocks_specific_df, brent_df, on='Date', how='inner')\n",
        "stocks_brent_gold_df = pd.merge(stocks_brent_df, gold_df, on='Date', how='inner')\n",
        "\n",
        "\n"
      ]
    },
    {
      "cell_type": "code",
      "execution_count": 10,
      "metadata": {},
      "outputs": [],
      "source": [
        "# Create a Spark DataFrame\n",
        "stocks_brent_gold_df_spark = spark.createDataFrame(stocks_brent_gold_df)"
      ]
    },
    {
      "cell_type": "code",
      "execution_count": 11,
      "metadata": {},
      "outputs": [],
      "source": [
        "# Create a VectorAssembler for the features\n",
        "assembler = VectorAssembler(inputCols=[\"Stock_Price\", \"Brent_Price\", \"Gold_Price\"], outputCol=\"features\")\n",
        "stocks_brent_gold_df_spark = assembler.transform(stocks_brent_gold_df_spark)"
      ]
    },
    {
      "cell_type": "code",
      "execution_count": 12,
      "metadata": {},
      "outputs": [],
      "source": [
        "# Train-test split\n",
        "splits = stocks_brent_gold_df_spark.randomSplit([0.8, 0.2])\n",
        "train = splits[0]\n",
        "test = splits[1]\n",
        "\n"
      ]
    },
    {
      "cell_type": "code",
      "execution_count": 13,
      "metadata": {},
      "outputs": [],
      "source": [
        "# Define the DecisionTreeRegressor\n",
        "dt = DecisionTreeRegressor(featuresCol=\"features\", labelCol=\"Stock_Price\")\n"
      ]
    },
    {
      "cell_type": "code",
      "execution_count": 14,
      "metadata": {},
      "outputs": [],
      "source": [
        "# Train the model\n",
        "model = dt.fit(train)\n"
      ]
    },
    {
      "cell_type": "code",
      "execution_count": 15,
      "metadata": {},
      "outputs": [],
      "source": [
        "# Make predictions\n",
        "predictions = model.transform(test)"
      ]
    },
    {
      "cell_type": "code",
      "execution_count": 16,
      "metadata": {},
      "outputs": [
        {
          "name": "stdout",
          "output_type": "stream",
          "text": [
            "Root Mean Squared Error (RMSE): 8.042969898488115\n"
          ]
        }
      ],
      "source": [
        "# Evaluate the model\n",
        "evaluator = RegressionEvaluator(labelCol=\"Stock_Price\", predictionCol=\"prediction\", metricName=\"rmse\")\n",
        "rmse = evaluator.evaluate(predictions)\n",
        "print(\"Root Mean Squared Error (RMSE):\", rmse)\n"
      ]
    },
    {
      "cell_type": "code",
      "execution_count": 17,
      "metadata": {},
      "outputs": [
        {
          "name": "stdout",
          "output_type": "stream",
          "text": [
            "R2: 0.9460308155664667\n"
          ]
        }
      ],
      "source": [
        "# evaluate the model using accuracy\n",
        "evaluator = RegressionEvaluator(labelCol=\"Stock_Price\", predictionCol=\"prediction\", metricName=\"r2\")\n",
        "r2 = evaluator.evaluate(predictions)\n",
        "print(\"R2:\", r2)\n",
        "\n",
        "# An R-squared (R2) value of 0.946 indicates that approximately 94.6% of the variance in the stock price can be explained by the features (Brent_Price and Gold_Price) in your model.\n",
        "\n",
        "# Generally, an R2 value close to 1 indicates that the model is able to explain a large proportion of the variance in the data, which is considered good. However, it's important to interpret this value in the context of your specific problem and domain knowledge."
      ]
    },
    {
      "cell_type": "code",
      "execution_count": 18,
      "metadata": {},
      "outputs": [],
      "source": [
        "# Save the model\n",
        "model.save(\"decision_tree_regressor_model 2\")"
      ]
    },
    {
      "cell_type": "code",
      "execution_count": 21,
      "metadata": {},
      "outputs": [
        {
          "name": "stdout",
          "output_type": "stream",
          "text": [
            "+-------------------+--------------------+-----------+------+------+-----------+----------+--------------------+------------------+\n",
            "|               Date|                name|Stock_Price|Sector|symbol|Brent_Price|Gold_Price|            features|        prediction|\n",
            "+-------------------+--------------------+-----------+------+------+-----------+----------+--------------------+------------------+\n",
            "|2020-03-05 00:00:00|Saudi Arabia Refi...|       34.9|Energy|  2030|      51.29|    1690.5| [34.9,51.29,1690.5]| 34.65715564486664|\n",
            "|2020-03-05 00:00:00|Saudi Arabian Oil...|       33.0|Energy|  2222|      51.29|    1690.5| [33.0,51.29,1690.5]| 34.65715564486664|\n",
            "|2020-03-05 00:00:00|Rabigh Refining a...|       14.8|Energy|  2380|      51.29|    1690.5| [14.8,51.29,1690.5]|15.163399172310012|\n",
            "|2020-03-05 00:00:00|National Shipping...|      31.15|Energy|  4030|      51.29|    1690.5|[31.15,51.29,1690.5]| 30.75689315068493|\n",
            "|2020-03-05 00:00:00|Aldrees Petroleum...|       60.1|Energy|  4200|      51.29|    1690.5| [60.1,51.29,1690.5]| 60.25984197730956|\n",
            "+-------------------+--------------------+-----------+------+------+-----------+----------+--------------------+------------------+\n",
            "only showing top 5 rows\n",
            "\n"
          ]
        }
      ],
      "source": [
        "# predict the stock price for the next day\n",
        "predictions = model.transform(stocks_brent_gold_df_spark)\n",
        "predictions.show(5)\n",
        "\n"
      ]
    },
    {
      "cell_type": "code",
      "execution_count": 22,
      "metadata": {},
      "outputs": [],
      "source": [
        "# compare the predicted stock price with the actual stock price\n",
        "predictions.toPandas().to_csv(\"predictions.csv\")\n"
      ]
    },
    {
      "cell_type": "code",
      "execution_count": 23,
      "metadata": {},
      "outputs": [],
      "source": [
        "# Stop the Spark session\n",
        "spark.stop()"
      ]
    }
  ],
  "metadata": {
    "colab": {
      "provenance": []
    },
    "kernelspec": {
      "display_name": "Python 3",
      "name": "python3"
    },
    "language_info": {
      "codemirror_mode": {
        "name": "ipython",
        "version": 3
      },
      "file_extension": ".py",
      "mimetype": "text/x-python",
      "name": "python",
      "nbconvert_exporter": "python",
      "pygments_lexer": "ipython3",
      "version": "3.11.5"
    }
  },
  "nbformat": 4,
  "nbformat_minor": 0
}
