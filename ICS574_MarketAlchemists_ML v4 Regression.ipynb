{
  "cells": [
    {
      "cell_type": "markdown",
      "metadata": {},
      "source": [
        "# Course: ICS 574\n",
        "# Prject: Alchemists Project - EDA\n",
        "- Date: May 1st 2024\n",
        "- Project Members\n",
        "    - AHMED DHAFER ALQARNI, ID: 201453160\n",
        "    - WALEED ABDULLAH ALFAIFI, ID: 201640920\n",
        "    - ALGHAMDI, BANDAR, ID: 202206560"
      ]
    },
    {
      "cell_type": "code",
      "execution_count": 1,
      "metadata": {},
      "outputs": [],
      "source": [
        "import pandas as pd\n",
        "from pyspark.sql import SparkSession\n",
        "from pyspark.ml.feature import StringIndexer, VectorAssembler\n",
        "from pyspark.ml.evaluation import RegressionEvaluator\n",
        "from pyspark.ml.regression import DecisionTreeRegressor\n",
        "from pyspark.ml.evaluation import MulticlassClassificationEvaluator\n",
        "from pyspark.ml.tuning import ParamGridBuilder, CrossValidator\n",
        "import seaborn as sns\n",
        "import numpy as np\n"
      ]
    },
    {
      "cell_type": "code",
      "execution_count": 2,
      "metadata": {},
      "outputs": [
        {
          "name": "stderr",
          "output_type": "stream",
          "text": [
            "24/03/31 07:31:50 WARN Utils: Your hostname, Bandars-MacBook-Pro.local resolves to a loopback address: 127.0.0.1; using 192.168.100.154 instead (on interface en0)\n",
            "24/03/31 07:31:50 WARN Utils: Set SPARK_LOCAL_IP if you need to bind to another address\n",
            "Setting default log level to \"WARN\".\n",
            "To adjust logging level use sc.setLogLevel(newLevel). For SparkR, use setLogLevel(newLevel).\n",
            "24/03/31 07:31:50 WARN NativeCodeLoader: Unable to load native-hadoop library for your platform... using builtin-java classes where applicable\n"
          ]
        }
      ],
      "source": [
        "# Create a Spark session\n",
        "spark = SparkSession.builder.appName(\"Decision Tree Classifier Example 4\").getOrCreate()\n",
        "\n",
        "\n"
      ]
    },
    {
      "cell_type": "code",
      "execution_count": 3,
      "metadata": {},
      "outputs": [
        {
          "data": {
            "text/html": [
              "\n",
              "            <div>\n",
              "                <p><b>SparkSession - in-memory</b></p>\n",
              "                \n",
              "        <div>\n",
              "            <p><b>SparkContext</b></p>\n",
              "\n",
              "            <p><a href=\"http://192.168.100.154:4040\">Spark UI</a></p>\n",
              "\n",
              "            <dl>\n",
              "              <dt>Version</dt>\n",
              "                <dd><code>v3.5.0</code></dd>\n",
              "              <dt>Master</dt>\n",
              "                <dd><code>local[*]</code></dd>\n",
              "              <dt>AppName</dt>\n",
              "                <dd><code>Decision Tree Classifier Example 4</code></dd>\n",
              "            </dl>\n",
              "        </div>\n",
              "        \n",
              "            </div>\n",
              "        "
            ],
            "text/plain": [
              "<pyspark.sql.session.SparkSession at 0x306c18a90>"
            ]
          },
          "execution_count": 3,
          "metadata": {},
          "output_type": "execute_result"
        }
      ],
      "source": [
        "spark"
      ]
    },
    {
      "cell_type": "code",
      "execution_count": 13,
      "metadata": {},
      "outputs": [
        {
          "name": "stderr",
          "output_type": "stream",
          "text": [
            "/var/folders/8r/wc11r95d3lgcc57lr4h_9m0w0000gn/T/ipykernel_16247/1058981075.py:8: SettingWithCopyWarning: \n",
            "A value is trying to be set on a copy of a slice from a DataFrame\n",
            "\n",
            "See the caveats in the documentation: https://pandas.pydata.org/pandas-docs/stable/user_guide/indexing.html#returning-a-view-versus-a-copy\n",
            "  stocks_specific_df.rename(columns={'date': 'Date'}, inplace=True)\n",
            "/var/folders/8r/wc11r95d3lgcc57lr4h_9m0w0000gn/T/ipykernel_16247/1058981075.py:9: SettingWithCopyWarning: \n",
            "A value is trying to be set on a copy of a slice from a DataFrame\n",
            "\n",
            "See the caveats in the documentation: https://pandas.pydata.org/pandas-docs/stable/user_guide/indexing.html#returning-a-view-versus-a-copy\n",
            "  stocks_specific_df.rename(columns={'close': 'Stock_Price'}, inplace=True)\n",
            "/var/folders/8r/wc11r95d3lgcc57lr4h_9m0w0000gn/T/ipykernel_16247/1058981075.py:10: SettingWithCopyWarning: \n",
            "A value is trying to be set on a copy of a slice from a DataFrame.\n",
            "Try using .loc[row_indexer,col_indexer] = value instead\n",
            "\n",
            "See the caveats in the documentation: https://pandas.pydata.org/pandas-docs/stable/user_guide/indexing.html#returning-a-view-versus-a-copy\n",
            "  stocks_specific_df['Date'] = pd.to_datetime(stocks_specific_df['Date'])\n",
            "/var/folders/8r/wc11r95d3lgcc57lr4h_9m0w0000gn/T/ipykernel_16247/1058981075.py:11: UserWarning: Could not infer format, so each element will be parsed individually, falling back to `dateutil`. To ensure parsing is consistent and as-expected, please specify a format.\n",
            "  brent_df['Date'] = pd.to_datetime(brent_df['Date'])\n",
            "/var/folders/8r/wc11r95d3lgcc57lr4h_9m0w0000gn/T/ipykernel_16247/1058981075.py:15: SettingWithCopyWarning: \n",
            "A value is trying to be set on a copy of a slice from a DataFrame\n",
            "\n",
            "See the caveats in the documentation: https://pandas.pydata.org/pandas-docs/stable/user_guide/indexing.html#returning-a-view-versus-a-copy\n",
            "  stocks_specific_df.rename(columns={'sectoer': 'Sector'}, inplace=True)\n",
            "/var/folders/8r/wc11r95d3lgcc57lr4h_9m0w0000gn/T/ipykernel_16247/1058981075.py:18: SettingWithCopyWarning: \n",
            "A value is trying to be set on a copy of a slice from a DataFrame\n",
            "\n",
            "See the caveats in the documentation: https://pandas.pydata.org/pandas-docs/stable/user_guide/indexing.html#returning-a-view-versus-a-copy\n",
            "  stocks_specific_df.fillna(method='ffill', inplace=True)\n"
          ]
        }
      ],
      "source": [
        "# Load the datasets as pandas DataFrames\n",
        "stocks_df = pd.read_csv(\"./datasets/Tadawul_stcks.csv\")\n",
        "brent_df = pd.read_csv(\"./datasets/BrentOilPrices.csv\")\n",
        "gold_df = pd.read_csv(\"./datasets/Gold_Daily.csv\")\n",
        "\n",
        "# Preprocess the stock data\n",
        "stocks_specific_df = stocks_df[(stocks_df['sectoer'] == 'Materials')]\n",
        "stocks_specific_df.rename(columns={'date': 'Date'}, inplace=True)\n",
        "stocks_specific_df.rename(columns={'close': 'Stock_Price'}, inplace=True)\n",
        "stocks_specific_df['Date'] = pd.to_datetime(stocks_specific_df['Date'])\n",
        "brent_df['Date'] = pd.to_datetime(brent_df['Date'])\n",
        "gold_df['Date'] = pd.to_datetime(gold_df['Date'])\n",
        "brent_df.rename(columns={'Price': 'Brent_Price'}, inplace=True)\n",
        "gold_df.rename(columns={'Price': 'Gold_Price'}, inplace=True)\n",
        "stocks_specific_df.rename(columns={'sectoer': 'Sector'}, inplace=True)\n",
        "brent_df = brent_df[['Date', 'Brent_Price']]\n",
        "gold_df = gold_df[['Date', 'Gold_Price']]\n",
        "stocks_specific_df.fillna(method='ffill', inplace=True)\n",
        "stocks_brent_df = pd.merge(stocks_specific_df, brent_df, on='Date', how='inner')\n",
        "stocks_brent_gold_df = pd.merge(stocks_brent_df, gold_df, on='Date', how='inner')\n",
        "\n",
        "\n"
      ]
    },
    {
      "cell_type": "code",
      "execution_count": 14,
      "metadata": {},
      "outputs": [],
      "source": [
        "# Create a Spark DataFrame\n",
        "stocks_brent_gold_df_spark = spark.createDataFrame(stocks_brent_gold_df)"
      ]
    },
    {
      "cell_type": "code",
      "execution_count": 15,
      "metadata": {},
      "outputs": [
        {
          "data": {
            "text/plain": [
              "['symbol',\n",
              " 'name',\n",
              " 'trading_name ',\n",
              " 'Sector',\n",
              " 'Date',\n",
              " 'open',\n",
              " 'high',\n",
              " 'low',\n",
              " 'Stock_Price',\n",
              " 'change',\n",
              " 'perc_Change',\n",
              " 'volume_traded ',\n",
              " 'value_traded',\n",
              " 'no_trades ',\n",
              " 'Brent_Price',\n",
              " 'Gold_Price']"
            ]
          },
          "execution_count": 15,
          "metadata": {},
          "output_type": "execute_result"
        }
      ],
      "source": [
        "# print columns of the DataFrame\n",
        "stocks_brent_gold_df_spark.columns"
      ]
    },
    {
      "cell_type": "code",
      "execution_count": 16,
      "metadata": {},
      "outputs": [],
      "source": [
        "# because we are going to use the DecisionTreeRegressor, we need to convert the categorical data to numerical data\n",
        "indexer = StringIndexer(inputCol=\"Sector\", outputCol=\"SectorIndex\")\n",
        "indexed = indexer.fit(stocks_brent_gold_df_spark).transform(stocks_brent_gold_df_spark)\n"
      ]
    },
    {
      "cell_type": "code",
      "execution_count": 17,
      "metadata": {},
      "outputs": [],
      "source": [
        "# index the name of the stock\n",
        "indexer = StringIndexer(inputCol=\"name\", outputCol=\"StockIndex\")\n",
        "indexed = indexer.fit(indexed).transform(indexed)"
      ]
    },
    {
      "cell_type": "code",
      "execution_count": 18,
      "metadata": {},
      "outputs": [
        {
          "name": "stdout",
          "output_type": "stream",
          "text": [
            "+------+--------------------+---------------+---------+-------------------+-----+-----+-----+-----------+------+-----------+--------------+-------------+----------+-----------+----------+-----------+----------+\n",
            "|symbol|                name|  trading_name |   Sector|               Date| open| high|  low|Stock_Price|change|perc_Change|volume_traded | value_traded|no_trades |Brent_Price|Gold_Price|SectorIndex|StockIndex|\n",
            "+------+--------------------+---------------+---------+-------------------+-----+-----+-----+-----------+------+-----------+--------------+-------------+----------+-----------+----------+-----------+----------+\n",
            "|  1201|Takween Advanced ...|        TAKWEEN|Materials|2020-03-05 00:00:00| 7.68| 7.68|  7.5|       7.52| -0.04|      -0.53|      183425.0|    1386959.3|     275.0|      51.29|    1690.5|        0.0|      33.0|\n",
            "|  1202|Middle East Paper...|          MEPCO|Materials|2020-03-05 00:00:00|13.66| 13.8|13.54|      13.54| -0.02|      -0.15|      584937.0|   7975687.54|     570.0|      51.29|    1690.5|        0.0|      38.0|\n",
            "|  1210|Basic Chemical In...|            BCI|Materials|2020-03-05 00:00:00| 24.1| 24.3|23.84|       23.9| -0.06|      -0.25|      116835.0|   2807511.36|     218.0|      51.29|    1690.5|        0.0|      25.0|\n",
            "|  1211|Saudi Arabian Min...|         MAADEN|Materials|2020-03-05 00:00:00| 36.0|36.35| 34.8|       34.8|  -0.8|      -2.25|      711699.0| 2.53748644E7|    1197.0|      51.29|    1690.5|        0.0|      26.0|\n",
            "|  1301|United Wire Facto...|          ASLAK|Materials|2020-03-05 00:00:00| 19.5|19.56| 19.0|      19.04| -0.32|      -1.65|       76580.0|   1471655.68|     116.0|      51.29|    1690.5|        0.0|      31.0|\n",
            "|  1304|Al Yamamah Steel ...|ALYAMAMAH STEEL|Materials|2020-03-05 00:00:00|20.02|20.12|19.62|       19.8| -0.18|       -0.9|      134742.0|   2671081.78|     243.0|      51.29|    1690.5|        0.0|      39.0|\n",
            "|  1320|Saudi Steel Pipe Co.|            SSP|Materials|2020-03-05 00:00:00| 18.9| 19.1|18.56|      18.62|  0.06|       0.32|      241445.0|   4560501.24|     504.0|      51.29|    1690.5|        0.0|      28.0|\n",
            "|  2001|Methanol Chemical...|       CHEMANOL|Materials|2020-03-05 00:00:00| 7.55| 7.57|  7.4|        7.4|  -0.1|      -1.33|      639345.0|   4798391.69|     585.0|      51.29|    1690.5|        0.0|      27.0|\n",
            "|  2002|National Petroche...|      PETROCHEM|Materials|2020-03-05 00:00:00| 22.6| 22.7|22.56|      22.56| -0.12|      -0.53|     1746535.0|3.940379092E7|     333.0|      51.29|    1690.5|        0.0|      29.0|\n",
            "|  2020|Saudi Arabian Fer...|          SAFCO|Materials|2020-03-05 00:00:00| 68.4| 69.1| 67.4|       67.5|  -0.8|      -1.17|      191727.0| 1.30549484E7|     634.0|      51.29|    1690.5|        0.0|       1.0|\n",
            "|  2060|National Industri...|         TASNEE|Materials|2020-03-05 00:00:00|11.54|11.64| 11.4|      11.42| -0.08|       -0.7|     1076342.0|1.241573444E7|     833.0|      51.29|    1690.5|        0.0|       0.0|\n",
            "|  2090| National Gypsum Co.|            NGC|Materials|2020-03-05 00:00:00|14.74|14.92|14.54|      14.58| -0.08|      -0.55|      402940.0|   5932614.32|     547.0|      51.29|    1690.5|        0.0|      13.0|\n",
            "|  2150|The National Comp...|         ZOUJAJ|Materials|2020-03-05 00:00:00|16.02| 16.1|15.82|      15.82|  -0.1|      -0.63|       58023.0|    926556.96|     125.0|      51.29|    1690.5|        0.0|      16.0|\n",
            "|  2170|Alujain Holding C...|        ALUJAIN|Materials|2020-03-05 00:00:00| 6.45|  7.1| 6.45|       33.0|   0.0|        0.0|           0.0|          0.0|       0.0|      51.29|    1690.5|        0.0|       6.0|\n",
            "|  2180|Filing and Packin...|          FIPCO|Materials|2020-03-05 00:00:00| 38.8|39.75| 37.9|       39.2|   0.8|       2.08|     1112098.0| 4.32869109E7|    1666.0|      51.29|    1690.5|        0.0|      17.0|\n",
            "|  2200|   Arabian Pipes Co.|            APC|Materials|2020-03-05 00:00:00|13.64|13.68| 13.3|       13.3|  -0.2|      -1.48|      643683.0|   8720395.62|     553.0|      51.29|    1690.5|        0.0|      18.0|\n",
            "|  2210|  Nama Chemicals Co.| NAMA CHEMICALS|Materials|2020-03-05 00:00:00|24.64|24.88| 24.3|      24.48|  -0.1|      -0.41|      355762.0|    8734185.6|     542.0|      51.29|    1690.5|        0.0|      11.0|\n",
            "|  2220|National Metal Ma...|     MAADANIYAH|Materials|2020-03-05 00:00:00|14.12| 14.5|14.12|      14.12| -0.18|      -1.26|      176871.0|   2519728.96|     289.0|      51.29|    1690.5|        0.0|      15.0|\n",
            "|  2240|Zamil Industrial ...|   ZAMIL INDUST|Materials|2020-03-05 00:00:00| 19.1| 19.4| 19.0|      19.08|   0.0|        0.0|       52216.0|   1001623.96|     117.0|      51.29|    1690.5|        0.0|      14.0|\n",
            "|  2250|Saudi Industrial ...|           SIIG|Materials|2020-03-05 00:00:00|20.34| 20.4| 19.8|      19.92| -0.36|      -1.78|      854689.0|1.718261116E7|     756.0|      51.29|    1690.5|        0.0|      19.0|\n",
            "+------+--------------------+---------------+---------+-------------------+-----+-----+-----+-----------+------+-----------+--------------+-------------+----------+-----------+----------+-----------+----------+\n",
            "only showing top 20 rows\n",
            "\n"
          ]
        }
      ],
      "source": [
        "indexed.show()"
      ]
    },
    {
      "cell_type": "code",
      "execution_count": 25,
      "metadata": {},
      "outputs": [],
      "source": [
        "# create a feature vector by combining the features that we are going to use\n",
        "vectorAssembler = VectorAssembler(inputCols=[\"Stock_Price\", \"volume_traded \", \"value_traded\", \"no_trades \", \"Brent_Price\", \"Gold_Price\"], outputCol=\"features\")"
      ]
    },
    {
      "cell_type": "code",
      "execution_count": 26,
      "metadata": {},
      "outputs": [],
      "source": [
        "assembledData = vectorAssembler.transform(indexed)"
      ]
    },
    {
      "cell_type": "code",
      "execution_count": 27,
      "metadata": {},
      "outputs": [],
      "source": [
        "# Create a VectorAssembler for the features\n",
        "stocks_brent_gold_df_spark = assembledData"
      ]
    },
    {
      "cell_type": "code",
      "execution_count": 29,
      "metadata": {},
      "outputs": [
        {
          "name": "stdout",
          "output_type": "stream",
          "text": [
            "+------+--------------------+---------------+---------+-------------------+-----+-----+-----+-----------+------+-----------+--------------+-------------+----------+-----------+----------+-----------+----------+--------------------+\n",
            "|symbol|                name|  trading_name |   Sector|               Date| open| high|  low|Stock_Price|change|perc_Change|volume_traded | value_traded|no_trades |Brent_Price|Gold_Price|SectorIndex|StockIndex|            features|\n",
            "+------+--------------------+---------------+---------+-------------------+-----+-----+-----+-----------+------+-----------+--------------+-------------+----------+-----------+----------+-----------+----------+--------------------+\n",
            "|  1201|Takween Advanced ...|        TAKWEEN|Materials|2020-03-05 00:00:00| 7.68| 7.68|  7.5|       7.52| -0.04|      -0.53|      183425.0|    1386959.3|     275.0|      51.29|    1690.5|        0.0|      33.0|[7.52,183425.0,13...|\n",
            "|  1202|Middle East Paper...|          MEPCO|Materials|2020-03-05 00:00:00|13.66| 13.8|13.54|      13.54| -0.02|      -0.15|      584937.0|   7975687.54|     570.0|      51.29|    1690.5|        0.0|      38.0|[13.54,584937.0,7...|\n",
            "|  1210|Basic Chemical In...|            BCI|Materials|2020-03-05 00:00:00| 24.1| 24.3|23.84|       23.9| -0.06|      -0.25|      116835.0|   2807511.36|     218.0|      51.29|    1690.5|        0.0|      25.0|[23.9,116835.0,28...|\n",
            "|  1211|Saudi Arabian Min...|         MAADEN|Materials|2020-03-05 00:00:00| 36.0|36.35| 34.8|       34.8|  -0.8|      -2.25|      711699.0| 2.53748644E7|    1197.0|      51.29|    1690.5|        0.0|      26.0|[34.8,711699.0,2....|\n",
            "|  1301|United Wire Facto...|          ASLAK|Materials|2020-03-05 00:00:00| 19.5|19.56| 19.0|      19.04| -0.32|      -1.65|       76580.0|   1471655.68|     116.0|      51.29|    1690.5|        0.0|      31.0|[19.04,76580.0,14...|\n",
            "|  1304|Al Yamamah Steel ...|ALYAMAMAH STEEL|Materials|2020-03-05 00:00:00|20.02|20.12|19.62|       19.8| -0.18|       -0.9|      134742.0|   2671081.78|     243.0|      51.29|    1690.5|        0.0|      39.0|[19.8,134742.0,26...|\n",
            "|  1320|Saudi Steel Pipe Co.|            SSP|Materials|2020-03-05 00:00:00| 18.9| 19.1|18.56|      18.62|  0.06|       0.32|      241445.0|   4560501.24|     504.0|      51.29|    1690.5|        0.0|      28.0|[18.62,241445.0,4...|\n",
            "|  2001|Methanol Chemical...|       CHEMANOL|Materials|2020-03-05 00:00:00| 7.55| 7.57|  7.4|        7.4|  -0.1|      -1.33|      639345.0|   4798391.69|     585.0|      51.29|    1690.5|        0.0|      27.0|[7.4,639345.0,479...|\n",
            "|  2002|National Petroche...|      PETROCHEM|Materials|2020-03-05 00:00:00| 22.6| 22.7|22.56|      22.56| -0.12|      -0.53|     1746535.0|3.940379092E7|     333.0|      51.29|    1690.5|        0.0|      29.0|[22.56,1746535.0,...|\n",
            "|  2020|Saudi Arabian Fer...|          SAFCO|Materials|2020-03-05 00:00:00| 68.4| 69.1| 67.4|       67.5|  -0.8|      -1.17|      191727.0| 1.30549484E7|     634.0|      51.29|    1690.5|        0.0|       1.0|[67.5,191727.0,1....|\n",
            "|  2060|National Industri...|         TASNEE|Materials|2020-03-05 00:00:00|11.54|11.64| 11.4|      11.42| -0.08|       -0.7|     1076342.0|1.241573444E7|     833.0|      51.29|    1690.5|        0.0|       0.0|[11.42,1076342.0,...|\n",
            "|  2090| National Gypsum Co.|            NGC|Materials|2020-03-05 00:00:00|14.74|14.92|14.54|      14.58| -0.08|      -0.55|      402940.0|   5932614.32|     547.0|      51.29|    1690.5|        0.0|      13.0|[14.58,402940.0,5...|\n",
            "|  2150|The National Comp...|         ZOUJAJ|Materials|2020-03-05 00:00:00|16.02| 16.1|15.82|      15.82|  -0.1|      -0.63|       58023.0|    926556.96|     125.0|      51.29|    1690.5|        0.0|      16.0|[15.82,58023.0,92...|\n",
            "|  2170|Alujain Holding C...|        ALUJAIN|Materials|2020-03-05 00:00:00| 6.45|  7.1| 6.45|       33.0|   0.0|        0.0|           0.0|          0.0|       0.0|      51.29|    1690.5|        0.0|       6.0|[33.0,0.0,0.0,0.0...|\n",
            "|  2180|Filing and Packin...|          FIPCO|Materials|2020-03-05 00:00:00| 38.8|39.75| 37.9|       39.2|   0.8|       2.08|     1112098.0| 4.32869109E7|    1666.0|      51.29|    1690.5|        0.0|      17.0|[39.2,1112098.0,4...|\n",
            "|  2200|   Arabian Pipes Co.|            APC|Materials|2020-03-05 00:00:00|13.64|13.68| 13.3|       13.3|  -0.2|      -1.48|      643683.0|   8720395.62|     553.0|      51.29|    1690.5|        0.0|      18.0|[13.3,643683.0,87...|\n",
            "|  2210|  Nama Chemicals Co.| NAMA CHEMICALS|Materials|2020-03-05 00:00:00|24.64|24.88| 24.3|      24.48|  -0.1|      -0.41|      355762.0|    8734185.6|     542.0|      51.29|    1690.5|        0.0|      11.0|[24.48,355762.0,8...|\n",
            "|  2220|National Metal Ma...|     MAADANIYAH|Materials|2020-03-05 00:00:00|14.12| 14.5|14.12|      14.12| -0.18|      -1.26|      176871.0|   2519728.96|     289.0|      51.29|    1690.5|        0.0|      15.0|[14.12,176871.0,2...|\n",
            "|  2240|Zamil Industrial ...|   ZAMIL INDUST|Materials|2020-03-05 00:00:00| 19.1| 19.4| 19.0|      19.08|   0.0|        0.0|       52216.0|   1001623.96|     117.0|      51.29|    1690.5|        0.0|      14.0|[19.08,52216.0,10...|\n",
            "|  2250|Saudi Industrial ...|           SIIG|Materials|2020-03-05 00:00:00|20.34| 20.4| 19.8|      19.92| -0.36|      -1.78|      854689.0|1.718261116E7|     756.0|      51.29|    1690.5|        0.0|      19.0|[19.92,854689.0,1...|\n",
            "+------+--------------------+---------------+---------+-------------------+-----+-----+-----+-----------+------+-----------+--------------+-------------+----------+-----------+----------+-----------+----------+--------------------+\n",
            "only showing top 20 rows\n",
            "\n"
          ]
        }
      ],
      "source": [
        "stocks_brent_gold_df_spark.show()"
      ]
    },
    {
      "cell_type": "code",
      "execution_count": 35,
      "metadata": {},
      "outputs": [],
      "source": [
        "# Define the DecisionTreeRegressor\n",
        "dt = DecisionTreeRegressor(featuresCol=\"features\", labelCol=\"StockIndex\")"
      ]
    },
    {
      "cell_type": "code",
      "execution_count": 36,
      "metadata": {},
      "outputs": [],
      "source": [
        "# define the evaluator\n",
        "# note the metricName parameter is rmse, which stands for Root Mean Squared Error. This is the default metric for regression problems.\n",
        "# Other metrics include r2 (R squared) and mae (Mean Absolute Error)\n",
        "# see the documentation for more details: https://spark.apache.org/docs/latest/api/python/pyspark.ml.html#pyspark.ml.evaluation.RegressionEvaluator\n",
        "evaluator = RegressionEvaluator(labelCol=\"StockIndex\", predictionCol=\"prediction\", metricName=\"rmse\")"
      ]
    },
    {
      "cell_type": "code",
      "execution_count": 37,
      "metadata": {},
      "outputs": [],
      "source": [
        "# Define the grid of hyperparameters\n",
        "# We will use a ParamGridBuilder to construct a grid of parameters to search over.\n",
        "# With 3 values for dt.maxDepth and 5 values for dt.maxBins, this grid will have 3 x 5 = 15 parameter settings for CrossValidator to choose from.\n",
        "# see the documentation for more details: https://spark.apache.org/docs/latest/api/python/pyspark.ml.html#pyspark.ml.tuning.ParamGridBuilder\n",
        "paramGrid = ParamGridBuilder() \\\n",
        "    .addGrid(dt.maxDepth, [2, 3, 4, 5, 6, 7, 8, 9, 10]) \\\n",
        "    .addGrid(dt.maxBins, [10, 20, 40, 80, 100]) \\\n",
        "    .build()"
      ]
    },
    {
      "cell_type": "code",
      "execution_count": 38,
      "metadata": {},
      "outputs": [],
      "source": [
        "# Define the CrossValidator\n",
        "# We will use a CrossValidator to select the best model.\n",
        "# A CrossValidator requires an Estimator, a set of Estimator ParamMaps, and an Evaluator.\n",
        "# see the documentation for more details: https://spark.apache.org/docs/latest/api/python/pyspark.ml.html#pyspark.ml.tuning.CrossValidator\n",
        "cv = CrossValidator(estimator=dt, estimatorParamMaps=paramGrid, evaluator=evaluator, numFolds=5)"
      ]
    },
    {
      "cell_type": "code",
      "execution_count": 39,
      "metadata": {},
      "outputs": [
        {
          "name": "stderr",
          "output_type": "stream",
          "text": [
            "24/03/31 07:58:34 WARN CacheManager: Asked to cache already cached data.\n",
            "24/03/31 07:58:34 WARN CacheManager: Asked to cache already cached data.\n"
          ]
        }
      ],
      "source": [
        "# fit the cv model with the assembled data\n",
        "cvModel = cv.fit(stocks_brent_gold_df_spark)"
      ]
    },
    {
      "cell_type": "code",
      "execution_count": 40,
      "metadata": {},
      "outputs": [
        {
          "name": "stdout",
          "output_type": "stream",
          "text": [
            "Average RMSE:  8.486906382101072\n"
          ]
        }
      ],
      "source": [
        "# get the average cross-validated RMSE\n",
        "# note the RMSE is the root of the average of the squares of the differences between the predicted and the actual values\n",
        "# see the documentation for more details: https://spark.apache.org/docs/latest/api/python/pyspark.ml.html#pyspark.ml.evaluation.RegressionEvaluator\n",
        "\n",
        "# the higher the RMSE, the worse the model\n",
        "# the lower the RMSE, the better the model\n",
        "# the RMSE is a measure of the quality of the model\n",
        "# the RMSE is scale-dependent\n",
        "# the RMSE can be used to compare different models\n",
        "# the RMSE can be used to compare different transformations of the same model\n",
        "# the RMSE can be used to compare different models on different datasets\n",
        "# the RMSE can be used to compare different models on the same dataset\n",
        "# the RMSE can be used to compare different models on the same dataset with different target variables\n",
        "# the RMSE can be used to compare different models on the same dataset with the same target variable\n",
        "# the RMSE can be used to compare different models on the same dataset with the same target variable and different features\n",
        "# the RMSE can be used to compare different models on the same dataset with the same target variable and the same features\n",
        "# the RMSE can be used to compare different models on the same dataset with the same target variable and the same features and different hyperparameters\n",
        "# the RMSE can be used to compare different models on the same dataset with the same target variable and the same features and the same hyperparameters\n",
        "# the RMSE value of 0 means the model is perfect\n",
        "# the RMSE value of 9 means the model is good?\n",
        "avg_rmse = np.mean(cvModel.avgMetrics)\n",
        "print(\"Average RMSE: \", avg_rmse)"
      ]
    },
    {
      "cell_type": "code",
      "execution_count": 41,
      "metadata": {},
      "outputs": [
        {
          "name": "stdout",
          "output_type": "stream",
          "text": [
            "{Param(parent='DecisionTreeRegressor_141f9f55ecef', name='cacheNodeIds', doc='If false, the algorithm will pass trees to executors to match instances with nodes. If true, the algorithm will cache node IDs for each instance. Caching can speed up training of deeper trees. Users can set how often should the cache be checkpointed or disable it by setting checkpointInterval.'): False, Param(parent='DecisionTreeRegressor_141f9f55ecef', name='checkpointInterval', doc='set checkpoint interval (>= 1) or disable checkpoint (-1). E.g. 10 means that the cache will get checkpointed every 10 iterations. Note: this setting will be ignored if the checkpoint directory is not set in the SparkContext.'): 10, Param(parent='DecisionTreeRegressor_141f9f55ecef', name='featuresCol', doc='features column name.'): 'features', Param(parent='DecisionTreeRegressor_141f9f55ecef', name='impurity', doc='Criterion used for information gain calculation (case-insensitive). Supported options: variance'): 'variance', Param(parent='DecisionTreeRegressor_141f9f55ecef', name='labelCol', doc='label column name.'): 'StockIndex', Param(parent='DecisionTreeRegressor_141f9f55ecef', name='leafCol', doc='Leaf indices column name. Predicted leaf index of each instance in each tree by preorder.'): '', Param(parent='DecisionTreeRegressor_141f9f55ecef', name='maxBins', doc='Max number of bins for discretizing continuous features.  Must be >=2 and >= number of categories for any categorical feature.'): 40, Param(parent='DecisionTreeRegressor_141f9f55ecef', name='maxDepth', doc='Maximum depth of the tree. (>= 0) E.g., depth 0 means 1 leaf node; depth 1 means 1 internal node + 2 leaf nodes. Must be in range [0, 30].'): 10, Param(parent='DecisionTreeRegressor_141f9f55ecef', name='maxMemoryInMB', doc='Maximum memory in MB allocated to histogram aggregation. If too small, then 1 node will be split per iteration, and its aggregates may exceed this size.'): 256, Param(parent='DecisionTreeRegressor_141f9f55ecef', name='minInfoGain', doc='Minimum information gain for a split to be considered at a tree node.'): 0.0, Param(parent='DecisionTreeRegressor_141f9f55ecef', name='minInstancesPerNode', doc='Minimum number of instances each child must have after split. If a split causes the left or right child to have fewer than minInstancesPerNode, the split will be discarded as invalid. Should be >= 1.'): 1, Param(parent='DecisionTreeRegressor_141f9f55ecef', name='minWeightFractionPerNode', doc='Minimum fraction of the weighted sample count that each child must have after split. If a split causes the fraction of the total weight in the left or right child to be less than minWeightFractionPerNode, the split will be discarded as invalid. Should be in interval [0.0, 0.5).'): 0.0, Param(parent='DecisionTreeRegressor_141f9f55ecef', name='predictionCol', doc='prediction column name.'): 'prediction', Param(parent='DecisionTreeRegressor_141f9f55ecef', name='seed', doc='random seed.'): -2238209803648073148}\n"
          ]
        }
      ],
      "source": [
        "# print all the parameters of the best model\n",
        "print(cvModel.bestModel.extractParamMap())\n"
      ]
    },
    {
      "cell_type": "code",
      "execution_count": 42,
      "metadata": {},
      "outputs": [
        {
          "name": "stdout",
          "output_type": "stream",
          "text": [
            "9.393379984591112\n",
            "9.390942372835946\n",
            "9.403660773511568\n",
            "9.401298199651212\n",
            "9.393577950255418\n",
            "9.01192778529562\n",
            "9.038330752958633\n",
            "8.998848717554736\n",
            "8.992717896920754\n",
            "8.988018135967867\n",
            "8.786818109553082\n",
            "8.82061828175019\n",
            "8.735147100042486\n",
            "8.719847202023796\n",
            "8.708840129585116\n",
            "8.608837784353293\n",
            "8.610256844529527\n",
            "8.538345281713893\n",
            "8.525946908871491\n",
            "8.51438484721434\n",
            "8.473645443488289\n",
            "8.438752166774313\n",
            "8.36915541793392\n",
            "8.356149163652079\n",
            "8.34083699540852\n",
            "8.3437519170105\n",
            "8.287426251062765\n",
            "8.226785648040522\n",
            "8.213243254793085\n",
            "8.205129889202498\n",
            "8.24061459658503\n",
            "8.144438432689366\n",
            "8.08755612245877\n",
            "8.08871903330523\n",
            "8.080297843843265\n",
            "8.135639834102198\n",
            "8.01548224569062\n",
            "7.942298051430379\n",
            "7.9483595681559125\n",
            "7.939560695428433\n",
            "8.03494246532034\n",
            "7.89398855988731\n",
            "7.832045104057846\n",
            "7.851093486999453\n",
            "7.839129948047554\n"
          ]
        }
      ],
      "source": [
        "# print the RMSE of all the models\n",
        "for rmse in cvModel.avgMetrics:\n",
        "    print(rmse)\n",
        "    "
      ]
    },
    {
      "cell_type": "code",
      "execution_count": 15,
      "metadata": {},
      "outputs": [
        {
          "data": {
            "text/plain": [
              "\"\\n\\nan RMSE of 9.841781224229344 means that, on average, the model's predictions are about 9.84 units away from the actual values.\\n\\nWhether this RMSE is considered good or bad depends on the context and the scale of your data. For example, if you are predicting stock prices that range from 100 to 200, an RMSE of 9.84 might be acceptable. However, if your stock prices range from 10 to 20, an RMSE of 9.84 would be quite high, indicating that your model's predictions are not very accurate.\\n\\nIt's also important to compare this RMSE to the performance of other models or benchmarks. If other models or approaches yield significantly lower RMSE values, then an RMSE of 9.84 might be considered suboptimal.\\n\\nConsidering your project involves predicting the exact prices of stocks, Brent oil, Ethereum, and gold, the evaluation of the RMSE value depends on the specific context:\\n\\nStock Prices: If the stock prices you're predicting have a wide range (e.g., $50 to $300), an RMSE of 9.84 might be considered reasonable. However, for lower-priced stocks or if you aim for high precision, this RMSE could be considered high.\\nBrent Oil Prices: The price range for Brent oil can vary significantly depending on market conditions. If the range is broad, an RMSE of 9.84 might be acceptable. However, for more stable periods with narrower price ranges, this value might be too high.\\nEthereum Prices: Given the volatility and wide range of cryptocurrency prices, an RMSE of 9.84 could be considered reasonable, but this depends on the specific price range during your prediction period.\\nGold Prices: Similar to Brent oil, the evaluation of the RMSE for gold prices depends on the price range during the period you're predicting. For a wide range, an RMSE of 9.84 might be acceptable, but for a narrower range, it could be considered high.\\nOverall, the acceptability of an RMSE of 9.84 in your project depends on the specific price ranges and volatility of the assets you're predicting. It's also important to compare this value to other models or benchmarks to evaluate its relative performance.\\n\\n\\n\""
            ]
          },
          "execution_count": 15,
          "metadata": {},
          "output_type": "execute_result"
        }
      ],
      "source": [
        "\"\"\"\n",
        "\n",
        "an RMSE of 9.841781224229344 means that, on average, the model's predictions are about 9.84 units away from the actual values.\n",
        "\n",
        "Whether this RMSE is considered good or bad depends on the context and the scale of your data. For example, if you are predicting stock prices that range from 100 to 200, an RMSE of 9.84 might be acceptable. However, if your stock prices range from 10 to 20, an RMSE of 9.84 would be quite high, indicating that your model's predictions are not very accurate.\n",
        "\n",
        "It's also important to compare this RMSE to the performance of other models or benchmarks. If other models or approaches yield significantly lower RMSE values, then an RMSE of 9.84 might be considered suboptimal.\n",
        "\n",
        "Considering your project involves predicting the exact prices of stocks, Brent oil, Ethereum, and gold, the evaluation of the RMSE value depends on the specific context:\n",
        "\n",
        "Stock Prices: If the stock prices you're predicting have a wide range (e.g., $50 to $300), an RMSE of 9.84 might be considered reasonable. However, for lower-priced stocks or if you aim for high precision, this RMSE could be considered high.\n",
        "Brent Oil Prices: The price range for Brent oil can vary significantly depending on market conditions. If the range is broad, an RMSE of 9.84 might be acceptable. However, for more stable periods with narrower price ranges, this value might be too high.\n",
        "Ethereum Prices: Given the volatility and wide range of cryptocurrency prices, an RMSE of 9.84 could be considered reasonable, but this depends on the specific price range during your prediction period.\n",
        "Gold Prices: Similar to Brent oil, the evaluation of the RMSE for gold prices depends on the price range during the period you're predicting. For a wide range, an RMSE of 9.84 might be acceptable, but for a narrower range, it could be considered high.\n",
        "Overall, the acceptability of an RMSE of 9.84 in your project depends on the specific price ranges and volatility of the assets you're predicting. It's also important to compare this value to other models or benchmarks to evaluate its relative performance.\n",
        "\n",
        "\n",
        "\"\"\""
      ]
    },
    {
      "cell_type": "code",
      "execution_count": 44,
      "metadata": {},
      "outputs": [
        {
          "name": "stdout",
          "output_type": "stream",
          "text": [
            "         Feature  Importance\n",
            "0  trading_name     0.449911\n",
            "5            low    0.279164\n",
            "3           open    0.123852\n",
            "4           high    0.063026\n",
            "1         Sector    0.042812\n",
            "2           Date    0.041235\n"
          ]
        }
      ],
      "source": [
        "# print the feature importances\n",
        "\n",
        "# The feature importances represent the importance of each feature in the decision tree model.\n",
        "\n",
        "# The feature importances are calculated based on the information gain provided by each feature in splitting the data.\n",
        "\n",
        "# The higher the feature importance, the more important the feature is in making predictions.\n",
        "\n",
        "\n",
        "\n",
        "# get the feature importances\n",
        "feature_importances = cvModel.bestModel.featureImportances\n",
        "\n",
        "# create a DataFrame to display the feature importances\n",
        "feature_importances_df = pd.DataFrame(list(zip(stocks_brent_gold_df_spark.columns[2:], feature_importances)),\n",
        "                                      columns=[\"Feature\", \"Importance\"])\n",
        "\n",
        "# sort the DataFrame by feature importance in descending order\n",
        "feature_importances_df = feature_importances_df.sort_values(\"Importance\", ascending=False)\n",
        "\n",
        "# display the feature importances\n",
        "print(feature_importances_df)\n",
        "\n"
      ]
    },
    {
      "cell_type": "code",
      "execution_count": 43,
      "metadata": {},
      "outputs": [
        {
          "name": "stdout",
          "output_type": "stream",
          "text": [
            "       Feature  Importance\n",
            "0  Stock_Price    0.449911\n",
            "1  Brent_Price    0.042812\n",
            "2   Gold_Price    0.041235\n"
          ]
        }
      ],
      "source": [
        "# print the feature importances\n",
        "# Feature importances describe the relative importance of each feature in making accurate predictions.\n",
        "# The higher the value, the more important the feature is.\n",
        "# Feature importances can help you understand which features are most influential in your model's predictions.\n",
        "# Feature importances can guide feature selection and model interpretation.\n",
        "\n",
        "# get the feature importances\n",
        "feature_importances = cvModel.bestModel.featureImportances\n",
        "\n",
        "# create a pandas DataFrame to display the feature importances\n",
        "feature_importances_df = pd.DataFrame(list(zip([\"Stock_Price\", \"Brent_Price\", \"Gold_Price\"], feature_importances)),\n",
        "                                      columns=[\"Feature\", \"Importance\"])\n",
        "\n",
        "# display the feature importances\n",
        "print(feature_importances_df)"
      ]
    },
    {
      "cell_type": "code",
      "execution_count": 33,
      "metadata": {},
      "outputs": [
        {
          "name": "stdout",
          "output_type": "stream",
          "text": [
            "6\n",
            "100\n"
          ]
        }
      ],
      "source": [
        "# print the hyperparameters of the best model\n",
        "# The hyperparameters of the best model can provide insights into the configuration that yielded the best performance.\n",
        "# Understanding the hyperparameters can help you tune future models and optimize their performance.\n",
        "# The hyperparameters of the best model can guide further experimentation and refinement of the model.\n",
        "print(cvModel.bestModel._java_obj.getMaxDepth())\n",
        "print(cvModel.bestModel._java_obj.getMaxBins())"
      ]
    },
    {
      "cell_type": "code",
      "execution_count": 41,
      "metadata": {},
      "outputs": [
        {
          "ename": "ImportError",
          "evalue": "cannot import name 'TimeSeriesCrossValidator' from 'pyspark.ml.tuning' (/Users/bandaralghamdi/anaconda3/lib/python3.11/site-packages/pyspark/ml/tuning.py)",
          "output_type": "error",
          "traceback": [
            "\u001b[0;31m---------------------------------------------------------------------------\u001b[0m",
            "\u001b[0;31mImportError\u001b[0m                               Traceback (most recent call last)",
            "Cell \u001b[0;32mIn[41], line 13\u001b[0m\n\u001b[1;32m      1\u001b[0m \u001b[38;5;66;03m# define a time-series cross-validator\u001b[39;00m\n\u001b[1;32m      2\u001b[0m \u001b[38;5;66;03m# TimeSeriesCrossValidator is a cross-validator for time series data.\u001b[39;00m\n\u001b[1;32m      3\u001b[0m \u001b[38;5;66;03m# It works by splitting the dataset into training and test sets based on a time column.\u001b[39;00m\n\u001b[0;32m   (...)\u001b[0m\n\u001b[1;32m     11\u001b[0m \u001b[38;5;66;03m# In this case, we use the \"Date\" column as the time column.\u001b[39;00m\n\u001b[1;32m     12\u001b[0m \u001b[38;5;66;03m# see the documentation for more details: https://spark.apache.org/docs/latest/api/python/pyspark.ml.html#pyspark.ml.tuning.TimeSeriesCrossValidator\u001b[39;00m\n\u001b[0;32m---> 13\u001b[0m \u001b[38;5;28;01mfrom\u001b[39;00m \u001b[38;5;21;01mpyspark\u001b[39;00m\u001b[38;5;21;01m.\u001b[39;00m\u001b[38;5;21;01mml\u001b[39;00m\u001b[38;5;21;01m.\u001b[39;00m\u001b[38;5;21;01mtuning\u001b[39;00m \u001b[38;5;28;01mimport\u001b[39;00m TimeSeriesCrossValidator\n\u001b[1;32m     15\u001b[0m \u001b[38;5;66;03m# define the time-series cross-validator\u001b[39;00m\n\u001b[1;32m     16\u001b[0m tscv \u001b[38;5;241m=\u001b[39m TimeSeriesCrossValidator(estimator\u001b[38;5;241m=\u001b[39mdt, estimatorParamMaps\u001b[38;5;241m=\u001b[39mparamGrid, evaluator\u001b[38;5;241m=\u001b[39mevaluator, timeCol\u001b[38;5;241m=\u001b[39m\u001b[38;5;124m\"\u001b[39m\u001b[38;5;124mDate\u001b[39m\u001b[38;5;124m\"\u001b[39m, numFolds\u001b[38;5;241m=\u001b[39m\u001b[38;5;241m5\u001b[39m)\n",
            "\u001b[0;31mImportError\u001b[0m: cannot import name 'TimeSeriesCrossValidator' from 'pyspark.ml.tuning' (/Users/bandaralghamdi/anaconda3/lib/python3.11/site-packages/pyspark/ml/tuning.py)"
          ]
        }
      ],
      "source": [
        "# define a time-series cross-validator\n",
        "# TimeSeriesCrossValidator is a cross-validator for time series data.\n",
        "# It works by splitting the dataset into training and test sets based on a time column.\n",
        "# This allows you to evaluate the model's performance on unseen future data.\n",
        "# TimeSeriesCrossValidator is useful for time series forecasting tasks where the order of data points matters.\n",
        "# see the documentation for more details: https://spark.apache.org/docs/latest/api/python/pyspark.ml.html#pyspark.ml.tuning.TimeSeriesCrossValidator\n",
        "\n",
        "# define the time-series cross-validator\n",
        "# TimeSeriesCrossValidator requires an Estimator, a set of Estimator ParamMaps, an Evaluator, and a timeCol parameter.\n",
        "# The timeCol parameter specifies the column that contains the time information for splitting the dataset.\n",
        "# In this case, we use the \"Date\" column as the time column.\n",
        "# see the documentation for more details: https://spark.apache.org/docs/latest/api/python/pyspark.ml.html#pyspark.ml.tuning.TimeSeriesCrossValidator\n",
        "from pyspark.ml.tuning import TimeSeriesCrossValidator\n",
        "\n",
        "# define the time-series cross-validator\n",
        "tscv = TimeSeriesCrossValidator(estimator=dt, estimatorParamMaps=paramGrid, evaluator=evaluator, timeCol=\"Date\", numFolds=5)\n",
        "\n",
        "# fit the time-series cross-validator with the assembled data\n",
        "tscvModel = tscv.fit(stocks_brent_gold_df_spark)\n",
        "\n",
        "# get the average cross-validated RMSE\n",
        "avg_rmse_tscv = np.mean(tscvModel.avgMetrics)\n",
        "print(\"Average RMSE (Time Series Cross-Validation): \", avg_rmse_tscv)\n",
        "\n",
        "# print all the parameters of the best model\n",
        "print(tscvModel.bestModel.extractParamMap())\n",
        "\n",
        "# print the RMSE of all the models\n",
        "for rmse in tscvModel.avgMetrics:\n",
        "    print(rmse)\n",
        "\n",
        "# print the feature importances\n",
        "feature_importances_tscv = tscvModel.bestModel.featureImportances\n",
        "feature_importances_df_tscv = pd.DataFrame(list(zip([\"Stock_Price\", \"Brent_Price\", \"Gold_Price\"], feature_importances_tscv)),\n",
        "                                          columns=[\"Feature\", \"Importance\"])\n",
        "print(feature_importances_df_tscv)\n",
        "\n",
        "# print the hyperparameters of the best model\n",
        "print(tscvModel.bestModel._java_obj.getMaxDepth())\n",
        "print(tscvModel.bestModel._java_obj.getMaxBins())"
      ]
    },
    {
      "cell_type": "code",
      "execution_count": 44,
      "metadata": {},
      "outputs": [],
      "source": [
        "# Stop the Spark session\n",
        "spark.stop()"
      ]
    }
  ],
  "metadata": {
    "colab": {
      "provenance": []
    },
    "kernelspec": {
      "display_name": "Python 3",
      "name": "python3"
    },
    "language_info": {
      "codemirror_mode": {
        "name": "ipython",
        "version": 3
      },
      "file_extension": ".py",
      "mimetype": "text/x-python",
      "name": "python",
      "nbconvert_exporter": "python",
      "pygments_lexer": "ipython3",
      "version": "3.11.5"
    }
  },
  "nbformat": 4,
  "nbformat_minor": 0
}
